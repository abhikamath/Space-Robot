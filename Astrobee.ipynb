{
 "cells": [
  {
   "cell_type": "markdown",
   "metadata": {},
   "source": [
    "# <center>Modeling and Simulation of Astrobee<center>"
   ]
  },
  {
   "cell_type": "markdown",
   "metadata": {},
   "source": [
    "<p align=\"center\">\n",
    "  <center><img src=\"Astrobee.png\" width=\"500\" height=\"276\"><center>\n",
    "  <center>Source: <a href=\"https://ntrs.nasa.gov/search.jsp?R=20180003515\">Fl&uumlckiger et al. (2018)</a><center>\n",
    "</p>"
   ]
  },
  {
   "cell_type": "markdown",
   "metadata": {},
   "source": [
    "## Dependencies"
   ]
  },
  {
   "cell_type": "code",
   "execution_count": 1,
   "metadata": {},
   "outputs": [],
   "source": [
    "import sympy as sm\n",
    "import sympy.physics.mechanics as me\n",
    "from pydy.system import System\n",
    "import numpy as np\n",
    "import matplotlib.pyplot as plt\n",
    "from pydy.codegen.ode_function_generators import generate_ode_function\n",
    "from scipy.integrate import odeint\n",
    "me.init_vprinting()"
   ]
  },
  {
   "cell_type": "markdown",
   "metadata": {},
   "source": [
    "## Reference Frames"
   ]
  },
  {
   "cell_type": "code",
   "execution_count": 2,
   "metadata": {},
   "outputs": [],
   "source": [
    "ISS = me.ReferenceFrame('N') # ISS RF\n",
    "B = me.ReferenceFrame('B') # body RF\n",
    "\n",
    "q0, q1, q2, q3 = me.dynamicsymbols('q0:4') # attitude coordinates (quaternion angles)\n",
    "\n",
    "B.orient(ISS, 'Quaternion', (q0, q1, q2, q3)) # body RF"
   ]
  },
  {
   "cell_type": "code",
   "execution_count": 3,
   "metadata": {},
   "outputs": [],
   "source": [
    "t = me.dynamicsymbols._t"
   ]
  },
  {
   "cell_type": "markdown",
   "metadata": {},
   "source": [
    "## Significant Points"
   ]
  },
  {
   "cell_type": "code",
   "execution_count": 4,
   "metadata": {},
   "outputs": [],
   "source": [
    "O = me.Point('O') # fixed point in the ISS\n",
    "O.set_vel(ISS, 0)"
   ]
  },
  {
   "cell_type": "code",
   "execution_count": 5,
   "metadata": {},
   "outputs": [],
   "source": [
    "x, y, z = me.dynamicsymbols('x, y, z') # translation coordinates (position of the mass-center of Astrobee relative to 'O')\n",
    "l = sm.symbols('l') # length of Astrobee (side of cube)"
   ]
  },
  {
   "cell_type": "code",
   "execution_count": 6,
   "metadata": {},
   "outputs": [],
   "source": [
    "C = O.locatenew('C', x * ISS.x + y * ISS.y + z * ISS.z) # Astrobee CM"
   ]
  },
  {
   "cell_type": "markdown",
   "metadata": {},
   "source": [
    "## Kinematical Differential Equations"
   ]
  },
  {
   "cell_type": "code",
   "execution_count": 7,
   "metadata": {},
   "outputs": [],
   "source": [
    "ux = me.dynamicsymbols('u_x')\n",
    "uy = me.dynamicsymbols('u_y')\n",
    "uz = me.dynamicsymbols('u_z')\n",
    "u0 = me.dynamicsymbols('u_0')\n",
    "u1 = me.dynamicsymbols('u_1')\n",
    "u2 = me.dynamicsymbols('u_2')\n",
    "u3 = me.dynamicsymbols('u_3')"
   ]
  },
  {
   "cell_type": "code",
   "execution_count": 8,
   "metadata": {},
   "outputs": [
    {
     "data": {
      "image/png": "[encoded data removed]",
      "text/latex": [
       "$\\displaystyle \\left\\{ \\dot{q}_{0} : u_{0}, \\  \\dot{q}_{1} : u_{1}, \\  \\dot{q}_{2} : u_{2}, \\  \\dot{q}_{3} : u_{3}, \\  \\dot{x} : u_{x}, \\  \\dot{y} : u_{y}, \\  \\dot{z} : u_{z}\\right\\}$"
      ],
      "text/plain": [
       "{q₀̇: u₀, q₁̇: u₁, q₂̇: u₂, q₃̇: u₃, ẋ: uₓ, ẏ: u_y, ż: u_z}"
      ]
     },
     "execution_count": 8,
     "metadata": {},
     "output_type": "execute_result"
    }
   ],
   "source": [
    "z1 = sm.Eq(ux, x.diff())\n",
    "z2 = sm.Eq(uy, y.diff())\n",
    "z3 = sm.Eq(uz, z.diff())\n",
    "z4 = sm.Eq(u0, q0.diff())\n",
    "z5 = sm.Eq(u1, q1.diff())\n",
    "z6 = sm.Eq(u2, q2.diff())\n",
    "z7 = sm.Eq(u3, q3.diff())\n",
    "u = sm.solve([z1, z2, z3, z4, z5, z6, z7], x.diff(), y.diff(), z.diff(), q0.diff(), q1.diff(), q2.diff(), q3.diff())\n",
    "u"
   ]
  },
  {
   "cell_type": "markdown",
   "metadata": {},
   "source": [
    "## Angular Motion"
   ]
  },
  {
   "cell_type": "markdown",
   "metadata": {},
   "source": [
    "### Angular Velocity"
   ]
  },
  {
   "cell_type": "code",
   "execution_count": 9,
   "metadata": {},
   "outputs": [
    {
     "data": {
      "image/png": "[encoded data removed]",
      "text/latex": [
       "$\\displaystyle (2 q_{0} u_{1} - 2 q_{1} u_{0} - 2 q_{2} u_{3} + 2 q_{3} u_{2})\\mathbf{\\hat{b}_x} + (2 q_{0} u_{2} + 2 q_{1} u_{3} - 2 q_{2} u_{0} - 2 q_{3} u_{1})\\mathbf{\\hat{b}_y} + (2 q_{0} u_{3} - 2 q_{1} u_{2} + 2 q_{2} u_{1} - 2 q_{3} u_{0})\\mathbf{\\hat{b}_z}$"
      ],
      "text/plain": [
       "(2⋅q₀⋅u₁ - 2⋅q₁⋅u₀ - 2⋅q₂⋅u₃ + 2⋅q₃⋅u₂) b_x + (2⋅q₀⋅u₂ + 2⋅q₁⋅u₃ - 2⋅q₂⋅u₀ - 2\n",
       "⋅q₃⋅u₁) b_y + (2⋅q₀⋅u₃ - 2⋅q₁⋅u₂ + 2⋅q₂⋅u₁ - 2⋅q₃⋅u₀) b_z"
      ]
     },
     "execution_count": 9,
     "metadata": {},
     "output_type": "execute_result"
    }
   ],
   "source": [
    "B.set_ang_vel(ISS, B.ang_vel_in(ISS).subs(u))\n",
    "Omega_B_ISS_B = B.ang_vel_in(ISS)\n",
    "Omega_B_ISS_B # \"angular velocity of body RF w.r.t ISS RF expressed in body RF\" "
   ]
  },
  {
   "cell_type": "markdown",
   "metadata": {},
   "source": [
    "### Angular Acceleration"
   ]
  },
  {
   "cell_type": "code",
   "execution_count": 10,
   "metadata": {},
   "outputs": [
    {
     "data": {
      "image/png": "[encoded data removed]",
      "text/latex": [
       "$\\displaystyle (2 q_{0} \\dot{u}_{1} - 2 q_{1} \\dot{u}_{0} - 2 q_{2} \\dot{u}_{3} + 2 q_{3} \\dot{u}_{2})\\mathbf{\\hat{b}_x} + (2 q_{0} \\dot{u}_{2} + 2 q_{1} \\dot{u}_{3} - 2 q_{2} \\dot{u}_{0} - 2 q_{3} \\dot{u}_{1})\\mathbf{\\hat{b}_y} + (2 q_{0} \\dot{u}_{3} - 2 q_{1} \\dot{u}_{2} + 2 q_{2} \\dot{u}_{1} - 2 q_{3} \\dot{u}_{0})\\mathbf{\\hat{b}_z}$"
      ],
      "text/plain": [
       "(2⋅q₀⋅u₁̇ - 2⋅q₁⋅u₀̇ - 2⋅q₂⋅u₃̇ + 2⋅q₃⋅u₂̇) b_x + (2⋅q₀⋅u₂̇ + 2⋅q₁⋅u₃̇ - 2⋅q₂⋅\n",
       "u₀̇ - 2⋅q₃⋅u₁̇) b_y + (2⋅q₀⋅u₃̇ - 2⋅q₁⋅u₂̇ + 2⋅q₂⋅u₁̇ - 2⋅q₃⋅u₀̇) b_z"
      ]
     },
     "execution_count": 10,
     "metadata": {},
     "output_type": "execute_result"
    }
   ],
   "source": [
    "Alpha_B_ISS_B = B.ang_acc_in(ISS).subs(u)\n",
    "Alpha_B_ISS_B # \"angular acceleration of body RF w.r.t ISS RF expressed in body RF\" "
   ]
  },
  {
   "cell_type": "markdown",
   "metadata": {},
   "source": [
    "## Translational Motion"
   ]
  },
  {
   "cell_type": "markdown",
   "metadata": {},
   "source": [
    "### Velocity"
   ]
  },
  {
   "cell_type": "code",
   "execution_count": 11,
   "metadata": {},
   "outputs": [
    {
     "data": {
      "image/png": "[encoded data removed]",
      "text/latex": [
       "$\\displaystyle u_{x}\\mathbf{\\hat{n}_x} + u_{y}\\mathbf{\\hat{n}_y} + u_{z}\\mathbf{\\hat{n}_z}$"
      ],
      "text/plain": [
       "uₓ n_x + u_y n_y + u_z n_z"
      ]
     },
     "execution_count": 11,
     "metadata": {},
     "output_type": "execute_result"
    }
   ],
   "source": [
    "C.set_vel(ISS, C.pos_from(O).dt(ISS).subs(u))\n",
    "V_B_ISS_ISS = C.vel(ISS)\n",
    "V_B_ISS_ISS # \"velocity of Astrobee CM w.r.t ISS RF expressed in ISS RF\" "
   ]
  },
  {
   "cell_type": "markdown",
   "metadata": {},
   "source": [
    "### Acceleration"
   ]
  },
  {
   "cell_type": "code",
   "execution_count": 12,
   "metadata": {},
   "outputs": [
    {
     "data": {
      "image/png": "[encoded data removed]",
      "text/latex": [
       "$\\displaystyle \\dot{u}_{x}\\mathbf{\\hat{n}_x} + \\dot{u}_{y}\\mathbf{\\hat{n}_y} + \\dot{u}_{z}\\mathbf{\\hat{n}_z}$"
      ],
      "text/plain": [
       "uₓ̇ n_x + u_̇y n_y + u_̇z n_z"
      ]
     },
     "execution_count": 12,
     "metadata": {},
     "output_type": "execute_result"
    }
   ],
   "source": [
    "A_B_ISS_ISS = C.acc(ISS).subs(u)\n",
    "A_B_ISS_ISS # \"acceleration of Astrobee CM w.r.t ISS RF expressed in ISS RF\" "
   ]
  },
  {
   "cell_type": "markdown",
   "metadata": {},
   "source": [
    "## Mass and Inertia"
   ]
  },
  {
   "cell_type": "code",
   "execution_count": 13,
   "metadata": {},
   "outputs": [
    {
     "data": {
      "image/png": "[encoded data removed]",
      "text/latex": [
       "$\\displaystyle I_{x}\\mathbf{\\hat{b}_x}\\otimes \\mathbf{\\hat{b}_x} + I_{y}\\mathbf{\\hat{b}_y}\\otimes \\mathbf{\\hat{b}_y} + I_{z}\\mathbf{\\hat{b}_z}\\otimes \\mathbf{\\hat{b}_z}$"
      ],
      "text/plain": [
       "Iₓ b_x⊗b_x + I_y b_y⊗b_y + I_z b_z⊗b_z"
      ]
     },
     "execution_count": 13,
     "metadata": {},
     "output_type": "execute_result"
    }
   ],
   "source": [
    "m = sm.symbols('m') # Astrobee mass\n",
    "\n",
    "Ix, Iy, Iz = sm.symbols('I_x, I_y, I_z') # principal moments of inertia\n",
    "\n",
    "I = me.inertia(B, Ix, Iy, Iz) # inertia dyadic\n",
    "I"
   ]
  },
  {
   "cell_type": "markdown",
   "metadata": {},
   "source": [
    "## Loads"
   ]
  },
  {
   "cell_type": "markdown",
   "metadata": {},
   "source": [
    "### Forces"
   ]
  },
  {
   "cell_type": "code",
   "execution_count": 14,
   "metadata": {},
   "outputs": [
    {
     "data": {
      "image/png": "[encoded data removed]",
      "text/latex": [
       "$\\displaystyle \\left( \\left|{F}\\right|_{x}\\mathbf{\\hat{n}_x}, \\  \\left|{F}\\right|_{y}\\mathbf{\\hat{n}_y}, \\  \\left|{F}\\right|_{z}\\mathbf{\\hat{n}_z}\\right)$"
      ],
      "text/plain": [
       "(|F|ₓ n_x, |F|_y n_y, |F|_z n_z)"
      ]
     },
     "execution_count": 14,
     "metadata": {},
     "output_type": "execute_result"
    }
   ],
   "source": [
    "Fx_mag, Fy_mag, Fz_mag = me.dynamicsymbols('Fmag_x, Fmag_y, Fmag_z')\n",
    "\n",
    "Fx = Fx_mag * ISS.x\n",
    "Fy = Fy_mag * ISS.y\n",
    "Fz = Fz_mag * ISS.z\n",
    "\n",
    "Fx, Fy, Fz"
   ]
  },
  {
   "cell_type": "markdown",
   "metadata": {},
   "source": [
    "### Torques"
   ]
  },
  {
   "cell_type": "code",
   "execution_count": 15,
   "metadata": {},
   "outputs": [
    {
     "data": {
      "image/png": "[encoded data removed]",
      "text/latex": [
       "$\\displaystyle \\left( \\left|{T}\\right|_{x}\\mathbf{\\hat{b}_x}, \\  \\left|{T}\\right|_{y}\\mathbf{\\hat{b}_y}, \\  \\left|{T}\\right|_{z}\\mathbf{\\hat{b}_z}\\right)$"
      ],
      "text/plain": [
       "(|T|ₓ b_x, |T|_y b_y, |T|_z b_z)"
      ]
     },
     "execution_count": 15,
     "metadata": {},
     "output_type": "execute_result"
    }
   ],
   "source": [
    "Tx_mag, Ty_mag, Tz_mag = me.dynamicsymbols('Tmag_x, Tmag_y, Tmag_z')\n",
    "\n",
    "Tx = Tx_mag * B.x\n",
    "Ty = Ty_mag * B.y\n",
    "Tz = Tz_mag * B.z\n",
    "\n",
    "Tx, Ty, Tz"
   ]
  },
  {
   "cell_type": "markdown",
   "metadata": {},
   "source": [
    "## Kane's Method"
   ]
  },
  {
   "cell_type": "code",
   "execution_count": 16,
   "metadata": {},
   "outputs": [],
   "source": [
    "kdes = [z1.rhs - z1.lhs, z2.rhs - z2.lhs, z3.rhs - z3.lhs, z4.rhs - z4.lhs, z5.rhs - z5.lhs, z6.rhs - z6.lhs, z7.lhs - z7.rhs]"
   ]
  },
  {
   "cell_type": "code",
   "execution_count": 17,
   "metadata": {},
   "outputs": [],
   "source": [
    "body = me.RigidBody('body', C, B, m, (I, C))\n",
    "bodies = [body]"
   ]
  },
  {
   "cell_type": "code",
   "execution_count": 18,
   "metadata": {},
   "outputs": [],
   "source": [
    "loads = [(C, Fx),\n",
    "         (C, Fy),\n",
    "         (C, Fz),\n",
    "         (B, Tx),\n",
    "         (B, Ty),\n",
    "         (B, Tz)\n",
    "        ]"
   ]
  },
  {
   "cell_type": "code",
   "execution_count": 19,
   "metadata": {},
   "outputs": [],
   "source": [
    "kane = me.KanesMethod(ISS, (x, y, z, q0, q1, q2, q3), (ux, uy, uz, u0, u1, u2, u3), kd_eqs=kdes)"
   ]
  },
  {
   "cell_type": "code",
   "execution_count": 20,
   "metadata": {},
   "outputs": [],
   "source": [
    "fr, frstar = kane.kanes_equations(bodies, loads=loads)"
   ]
  },
  {
   "cell_type": "code",
   "execution_count": 21,
   "metadata": {},
   "outputs": [
    {
     "data": {
      "image/png": "[encoded data removed]",
      "text/latex": [
       "$\\displaystyle \\left[\\begin{matrix}\\left|{F}\\right|_{x}\\\\\\left|{F}\\right|_{y}\\\\\\left|{F}\\right|_{z}\\\\- 2 \\left|{T}\\right|_{x} q_{1} - 2 \\left|{T}\\right|_{y} q_{2} - 2 \\left|{T}\\right|_{z} q_{3}\\\\2 \\left|{T}\\right|_{x} q_{0} - 2 \\left|{T}\\right|_{y} q_{3} + 2 \\left|{T}\\right|_{z} q_{2}\\\\2 \\left|{T}\\right|_{x} q_{3} + 2 \\left|{T}\\right|_{y} q_{0} - 2 \\left|{T}\\right|_{z} q_{1}\\\\- 2 \\left|{T}\\right|_{x} q_{2} + 2 \\left|{T}\\right|_{y} q_{1} + 2 \\left|{T}\\right|_{z} q_{0}\\end{matrix}\\right]$"
      ],
      "text/plain": [
       "⎡                |F|ₓ                ⎤\n",
       "⎢                                    ⎥\n",
       "⎢               |F|_y                ⎥\n",
       "⎢                                    ⎥\n",
       "⎢               |F|_z                ⎥\n",
       "⎢                                    ⎥\n",
       "⎢-2⋅|T|ₓ⋅q₁ - 2⋅|T|_y⋅q₂ - 2⋅|T|_z⋅q₃⎥\n",
       "⎢                                    ⎥\n",
       "⎢2⋅|T|ₓ⋅q₀ - 2⋅|T|_y⋅q₃ + 2⋅|T|_z⋅q₂ ⎥\n",
       "⎢                                    ⎥\n",
       "⎢2⋅|T|ₓ⋅q₃ + 2⋅|T|_y⋅q₀ - 2⋅|T|_z⋅q₁ ⎥\n",
       "⎢                                    ⎥\n",
       "⎣-2⋅|T|ₓ⋅q₂ + 2⋅|T|_y⋅q₁ + 2⋅|T|_z⋅q₀⎦"
      ]
     },
     "execution_count": 21,
     "metadata": {},
     "output_type": "execute_result"
    }
   ],
   "source": [
    "fr"
   ]
  },
  {
   "cell_type": "code",
   "execution_count": 22,
   "metadata": {},
   "outputs": [],
   "source": [
    "# frstar"
   ]
  },
  {
   "cell_type": "markdown",
   "metadata": {},
   "source": [
    "## Simulation"
   ]
  },
  {
   "cell_type": "code",
   "execution_count": 23,
   "metadata": {},
   "outputs": [],
   "source": [
    "sys = System(kane)"
   ]
  },
  {
   "cell_type": "code",
   "execution_count": 24,
   "metadata": {},
   "outputs": [
    {
     "data": {
      "image/png": "[encoded data removed]",
      "text/latex": [
       "$\\displaystyle \\left\\{I_{x}, I_{y}, I_{z}, m\\right\\}$"
      ],
      "text/plain": [
       "{Iₓ, I_y, I_z, m}"
      ]
     },
     "execution_count": 24,
     "metadata": {},
     "output_type": "execute_result"
    }
   ],
   "source": [
    "sys.constants_symbols"
   ]
  },
  {
   "cell_type": "code",
   "execution_count": 25,
   "metadata": {},
   "outputs": [],
   "source": [
    "sys.constants = {Ix: 0.1083,\n",
    "                 Iy: 0.1083,\n",
    "                 Iz: 0.1083,\n",
    "                 m: 7\n",
    "                 }"
   ]
  },
  {
   "cell_type": "code",
   "execution_count": 26,
   "metadata": {},
   "outputs": [],
   "source": [
    "sys.times = np.linspace(0.0, 50.0, num=1000)"
   ]
  },
  {
   "cell_type": "code",
   "execution_count": 27,
   "metadata": {},
   "outputs": [
    {
     "data": {
      "image/png": "[encoded data removed]",
      "text/latex": [
       "$\\displaystyle \\left[ x, \\  y, \\  z, \\  q_{0}, \\  q_{1}, \\  q_{2}, \\  q_{3}\\right]$"
      ],
      "text/plain": [
       "[x, y, z, q₀, q₁, q₂, q₃]"
      ]
     },
     "execution_count": 27,
     "metadata": {},
     "output_type": "execute_result"
    }
   ],
   "source": [
    "sys.coordinates"
   ]
  },
  {
   "cell_type": "code",
   "execution_count": 28,
   "metadata": {},
   "outputs": [
    {
     "data": {
      "image/png": "[encoded data removed]",
      "text/latex": [
       "$\\displaystyle \\left[ u_{x}, \\  u_{y}, \\  u_{z}, \\  u_{0}, \\  u_{1}, \\  u_{2}, \\  u_{3}\\right]$"
      ],
      "text/plain": [
       "[uₓ, u_y, u_z, u₀, u₁, u₂, u₃]"
      ]
     },
     "execution_count": 28,
     "metadata": {},
     "output_type": "execute_result"
    }
   ],
   "source": [
    "sys.speeds"
   ]
  },
  {
   "cell_type": "code",
   "execution_count": 29,
   "metadata": {},
   "outputs": [
    {
     "data": {
      "image/png": "[encoded data removed]",
      "text/latex": [
       "$\\displaystyle \\left[ x, \\  y, \\  z, \\  q_{0}, \\  q_{1}, \\  q_{2}, \\  q_{3}, \\  u_{x}, \\  u_{y}, \\  u_{z}, \\  u_{0}, \\  u_{1}, \\  u_{2}, \\  u_{3}\\right]$"
      ],
      "text/plain": [
       "[x, y, z, q₀, q₁, q₂, q₃, uₓ, u_y, u_z, u₀, u₁, u₂, u₃]"
      ]
     },
     "execution_count": 29,
     "metadata": {},
     "output_type": "execute_result"
    }
   ],
   "source": [
    "sys.states"
   ]
  },
  {
   "cell_type": "code",
   "execution_count": 100,
   "metadata": {},
   "outputs": [],
   "source": [
    "theta = 0.5\n",
    "lambda_1 = 1\n",
    "lambda_2 = 0\n",
    "lambda_3 = 0\n",
    "sys.initial_conditions = {x: 0.0,\n",
    "                          y: 0.0,\n",
    "                          z: 0.0,\n",
    "                          q0: sm.cos(theta/2),\n",
    "                          q1: lambda_1 * sm.sin(theta/2),\n",
    "                          q2: lambda_2 * sm.sin(theta/2),\n",
    "                          q3: lambda_3 * sm.sin(theta/2),\n",
    "                          ux: 0.0,\n",
    "                          uy: 0.0,\n",
    "                          uz: 0.0,\n",
    "                          u0: 0.0,\n",
    "                          u1: 0.0,\n",
    "                          u2: 0.0,\n",
    "                          u3: 0.0\n",
    "                         }"
   ]
  },
  {
   "cell_type": "code",
   "execution_count": 101,
   "metadata": {},
   "outputs": [
    {
     "data": {
      "image/png": "[encoded data removed]",
      "text/latex": [
       "$\\displaystyle \\left\\{\\left|{F}\\right|_{x}, \\left|{F}\\right|_{y}, \\left|{F}\\right|_{z}, \\left|{T}\\right|_{x}, \\left|{T}\\right|_{y}, \\left|{T}\\right|_{z}\\right\\}$"
      ],
      "text/plain": [
       "{|F|ₓ, |F|_y, |F|_z, |T|ₓ, |T|_y, |T|_z}"
      ]
     },
     "execution_count": 101,
     "metadata": {},
     "output_type": "execute_result"
    }
   ],
   "source": [
    "sys.specifieds_symbols"
   ]
  },
  {
   "cell_type": "code",
   "execution_count": 102,
   "metadata": {},
   "outputs": [],
   "source": [
    "sys.specifieds = {Fx_mag: 0.0,\n",
    "                  Fy_mag: 0.0,\n",
    "                  Fz_mag: 0.0,\n",
    "                  Tx_mag: 0.0,\n",
    "                  Ty_mag: 0.0,\n",
    "                  Tz_mag: 0.0\n",
    "                 }"
   ]
  },
  {
   "cell_type": "code",
   "execution_count": 103,
   "metadata": {},
   "outputs": [],
   "source": [
    "s = sys.integrate()"
   ]
  },
  {
   "cell_type": "code",
   "execution_count": 104,
   "metadata": {},
   "outputs": [
    {
     "data": {
      "image/png": "[encoded data removed]",
      "text/plain": [
       "<Figure size 432x288 with 1 Axes>"
      ]
     },
     "metadata": {
      "needs_background": "light"
     },
     "output_type": "display_data"
    }
   ],
   "source": [
    "fig, ax = plt.subplots()\n",
    "ax.plot(sys.times, s)\n",
    "ax.set_xlabel('{} [s]'.format(sm.latex(t, mode='inline')));\n",
    "plt.show()"
   ]
  },
  {
   "cell_type": "code",
   "execution_count": 105,
   "metadata": {},
   "outputs": [
    {
     "data": {
      "image/png": "[encoded data removed]",
      "text/plain": [
       "<Figure size 432x288 with 1 Axes>"
      ]
     },
     "metadata": {
      "needs_background": "light"
     },
     "output_type": "display_data"
    }
   ],
   "source": [
    "fig, ax = plt.subplots()\n",
    "ax.plot(sys.times, s[:, 0])\n",
    "ax.set_xlabel('{} [s]'.format(sm.latex(t, mode='inline'))); ax.set_ylabel('{} [m]'.format(sm.latex(x, mode='inline')));\n",
    "plt.show()"
   ]
  },
  {
   "cell_type": "code",
   "execution_count": 106,
   "metadata": {},
   "outputs": [
    {
     "data": {
      "image/png": "[encoded data removed]",
      "text/plain": [
       "<Figure size 432x288 with 1 Axes>"
      ]
     },
     "metadata": {
      "needs_background": "light"
     },
     "output_type": "display_data"
    }
   ],
   "source": [
    "fig, ax = plt.subplots()\n",
    "ax.plot(sys.times, s[:, 1])\n",
    "ax.set_xlabel('{} [s]'.format(sm.latex(t, mode='inline'))); ax.set_ylabel('{} [m]'.format(sm.latex(y, mode='inline')));\n",
    "plt.show()"
   ]
  },
  {
   "cell_type": "code",
   "execution_count": 107,
   "metadata": {},
   "outputs": [
    {
     "data": {
      "image/png": "[encoded data removed]",
      "text/plain": [
       "<Figure size 432x288 with 1 Axes>"
      ]
     },
     "metadata": {
      "needs_background": "light"
     },
     "output_type": "display_data"
    }
   ],
   "source": [
    "fig, ax = plt.subplots()\n",
    "ax.plot(sys.times, s[:, 2])\n",
    "ax.set_xlabel('{} [s]'.format(sm.latex(t, mode='inline'))); ax.set_ylabel('{} [m]'.format(sm.latex(z, mode='inline')));\n",
    "plt.show()"
   ]
  },
  {
   "cell_type": "code",
   "execution_count": 108,
   "metadata": {},
   "outputs": [
    {
     "data": {
      "image/png": "[encoded data removed]",
      "text/plain": [
       "<Figure size 432x288 with 1 Axes>"
      ]
     },
     "metadata": {
      "needs_background": "light"
     },
     "output_type": "display_data"
    }
   ],
   "source": [
    "fig, ax = plt.subplots()\n",
    "ax.plot(sys.times, s[:, 3])\n",
    "ax.set_xlabel('{} [s]'.format(sm.latex(t, mode='inline'))); ax.set_ylabel('{}'.format(sm.latex(q0, mode='inline')));\n",
    "plt.show()"
   ]
  },
  {
   "cell_type": "code",
   "execution_count": 109,
   "metadata": {},
   "outputs": [
    {
     "data": {
      "image/png": "[encoded data removed]",
      "text/plain": [
       "<Figure size 432x288 with 1 Axes>"
      ]
     },
     "metadata": {
      "needs_background": "light"
     },
     "output_type": "display_data"
    }
   ],
   "source": [
    "fig, ax = plt.subplots()\n",
    "ax.plot(sys.times, s[:, 4])\n",
    "ax.set_xlabel('{} [s]'.format(sm.latex(t, mode='inline'))); ax.set_ylabel('{} [rad]'.format(sm.latex(q1, mode='inline')));\n",
    "plt.show()"
   ]
  },
  {
   "cell_type": "code",
   "execution_count": 110,
   "metadata": {},
   "outputs": [
    {
     "data": {
      "image/png": "[encoded data removed]",
      "text/plain": [
       "<Figure size 432x288 with 1 Axes>"
      ]
     },
     "metadata": {
      "needs_background": "light"
     },
     "output_type": "display_data"
    }
   ],
   "source": [
    "fig, ax = plt.subplots()\n",
    "ax.plot(sys.times, s[:, 5])\n",
    "ax.set_xlabel('{} [s]'.format(sm.latex(t, mode='inline'))); ax.set_ylabel('{} [rad]'.format(sm.latex(q2, mode='inline')));\n",
    "plt.show()"
   ]
  },
  {
   "cell_type": "code",
   "execution_count": 111,
   "metadata": {},
   "outputs": [
    {
     "data": {
      "image/png": "[encoded data removed]",
      "text/plain": [
       "<Figure size 432x288 with 1 Axes>"
      ]
     },
     "metadata": {
      "needs_background": "light"
     },
     "output_type": "display_data"
    }
   ],
   "source": [
    "fig, ax = plt.subplots()\n",
    "ax.plot(sys.times, s[:, 6])\n",
    "ax.set_xlabel('{} [s]'.format(sm.latex(t, mode='inline'))); ax.set_ylabel('{} [rad]'.format(sm.latex(q3, mode='inline')));\n",
    "plt.show()"
   ]
  },
  {
   "cell_type": "code",
   "execution_count": 112,
   "metadata": {},
   "outputs": [
    {
     "data": {
      "image/png": "[encoded data removed]",
      "text/plain": [
       "<Figure size 432x288 with 1 Axes>"
      ]
     },
     "metadata": {
      "needs_background": "light"
     },
     "output_type": "display_data"
    }
   ],
   "source": [
    "fig, ax = plt.subplots()\n",
    "ax.plot(sys.times, s[:, 7])\n",
    "ax.set_xlabel('{} [s]'.format(sm.latex(t, mode='inline'))); ax.set_ylabel('{} [m/s]'.format(sm.latex(ux, mode='inline')));\n",
    "plt.show()"
   ]
  },
  {
   "cell_type": "code",
   "execution_count": 113,
   "metadata": {},
   "outputs": [
    {
     "data": {
      "image/png": "[encoded data removed]",
      "text/plain": [
       "<Figure size 432x288 with 1 Axes>"
      ]
     },
     "metadata": {
      "needs_background": "light"
     },
     "output_type": "display_data"
    }
   ],
   "source": [
    "fig, ax = plt.subplots()\n",
    "ax.plot(sys.times, s[:, 8])\n",
    "ax.set_xlabel('{} [s]'.format(sm.latex(t, mode='inline'))); ax.set_ylabel('{} [m/s]'.format(sm.latex(uy, mode='inline')));\n",
    "plt.show()"
   ]
  },
  {
   "cell_type": "code",
   "execution_count": 114,
   "metadata": {},
   "outputs": [
    {
     "data": {
      "image/png": "[encoded data removed]",
      "text/plain": [
       "<Figure size 432x288 with 1 Axes>"
      ]
     },
     "metadata": {
      "needs_background": "light"
     },
     "output_type": "display_data"
    }
   ],
   "source": [
    "fig, ax = plt.subplots()\n",
    "ax.plot(sys.times, s[:, 9])\n",
    "ax.set_xlabel('{} [s]'.format(sm.latex(t, mode='inline'))); ax.set_ylabel('{} [m/s]'.format(sm.latex(uz, mode='inline')));\n",
    "plt.show()"
   ]
  },
  {
   "cell_type": "code",
   "execution_count": 115,
   "metadata": {},
   "outputs": [
    {
     "data": {
      "image/png": "[encoded data removed]",
      "text/plain": [
       "<Figure size 432x288 with 1 Axes>"
      ]
     },
     "metadata": {
      "needs_background": "light"
     },
     "output_type": "display_data"
    }
   ],
   "source": [
    "fig, ax = plt.subplots()\n",
    "ax.plot(sys.times, s[:, 10])\n",
    "ax.set_xlabel('{} [s]'.format(sm.latex(t, mode='inline'))); ax.set_ylabel('{}'.format(sm.latex(u0, mode='inline')));\n",
    "plt.show()"
   ]
  },
  {
   "cell_type": "code",
   "execution_count": 116,
   "metadata": {},
   "outputs": [
    {
     "data": {
      "image/png": "[encoded data removed]",
      "text/plain": [
       "<Figure size 432x288 with 1 Axes>"
      ]
     },
     "metadata": {
      "needs_background": "light"
     },
     "output_type": "display_data"
    }
   ],
   "source": [
    "fig, ax = plt.subplots()\n",
    "ax.plot(sys.times, s[:, 11])\n",
    "ax.set_xlabel('{} [s]'.format(sm.latex(t, mode='inline'))); ax.set_ylabel('{} [rad/s]'.format(sm.latex(u1, mode='inline')));\n",
    "plt.show()"
   ]
  },
  {
   "cell_type": "code",
   "execution_count": 117,
   "metadata": {},
   "outputs": [
    {
     "data": {
      "image/png": "[encoded data removed]",
      "text/plain": [
       "<Figure size 432x288 with 1 Axes>"
      ]
     },
     "metadata": {
      "needs_background": "light"
     },
     "output_type": "display_data"
    }
   ],
   "source": [
    "fig, ax = plt.subplots()\n",
    "ax.plot(sys.times, s[:, 12])\n",
    "ax.set_xlabel('{} [s]'.format(sm.latex(t, mode='inline'))); ax.set_ylabel('{} [m/s]'.format(sm.latex(u2, mode='inline')));\n",
    "plt.show()"
   ]
  },
  {
   "cell_type": "code",
   "execution_count": 118,
   "metadata": {},
   "outputs": [
    {
     "data": {
      "image/png": "[encoded data removed]",
      "text/plain": [
       "<Figure size 432x288 with 1 Axes>"
      ]
     },
     "metadata": {
      "needs_background": "light"
     },
     "output_type": "display_data"
    }
   ],
   "source": [
    "fig, ax = plt.subplots()\n",
    "ax.plot(sys.times, s[:, 13])\n",
    "ax.set_xlabel('{} [s]'.format(sm.latex(t, mode='inline'))); ax.set_ylabel('{} [m/s]'.format(sm.latex(u3, mode='inline')));\n",
    "plt.show()"
   ]
  },
  {
   "cell_type": "markdown",
   "metadata": {},
   "source": [
    "## 3D Visualization"
   ]
  },
  {
   "cell_type": "code",
   "execution_count": 119,
   "metadata": {},
   "outputs": [],
   "source": [
    "from pydy.viz.shapes import Cube, Cylinder, Sphere, Plane\n",
    "from pydy.viz.visualization_frame import VisualizationFrame\n",
    "from pydy.viz import Scene\n",
    "from ipywidgets import Image, Video\n",
    "import pythreejs as pjs"
   ]
  },
  {
   "cell_type": "code",
   "execution_count": 120,
   "metadata": {},
   "outputs": [],
   "source": [
    "l = 0.32"
   ]
  },
  {
   "cell_type": "code",
   "execution_count": 121,
   "metadata": {},
   "outputs": [],
   "source": [
    "body_m_shape = Cube(0.32, color='black')\n",
    "body_l_shape = Cube(0.32, color='green')\n",
    "body_r_shape = Cube(0.32, color='green')"
   ]
  },
  {
   "cell_type": "code",
   "execution_count": 122,
   "metadata": {},
   "outputs": [],
   "source": [
    "v1 = VisualizationFrame('Body_m',\n",
    "                        B,\n",
    "                        C.locatenew('C_m', (1/6) * l * B.z),\n",
    "                        body_m_shape)\n",
    "\n",
    "v2 = VisualizationFrame('Body_l',\n",
    "                        B,\n",
    "                        C.locatenew('C_l', (3/8) * l * -B.y),\n",
    "                        body_l_shape)\n",
    "\n",
    "v3 = VisualizationFrame('Body_r',\n",
    "                        B,\n",
    "                        C.locatenew('C_l', (3/8) * l * B.y),\n",
    "                        body_l_shape)"
   ]
  },
  {
   "cell_type": "code",
   "execution_count": 123,
   "metadata": {},
   "outputs": [],
   "source": [
    "scene = Scene(ISS, O, v1, v2, v3, system=sys)\n",
    "scene.create_static_html(overwrite=True, silent=True)"
   ]
  },
  {
   "cell_type": "code",
   "execution_count": 124,
   "metadata": {},
   "outputs": [],
   "source": [
    "body_m_mesh = pjs.Mesh(\n",
    "    pjs.BoxBufferGeometry(l, (1/2) * l, (2/3) * l),\n",
    "    pjs.MeshStandardMaterial(color='black'),\n",
    "    name=\"Body_m\"\n",
    ")\n",
    "\n",
    "body_l_mesh = pjs.Mesh(\n",
    "    pjs.BoxBufferGeometry(l, (1/4) * l, l),\n",
    "    pjs.MeshStandardMaterial(color='green'),\n",
    "    name=\"Body_l\"\n",
    ")\n",
    "\n",
    "body_r_mesh = pjs.Mesh(\n",
    "    pjs.BoxBufferGeometry(l, (1/4) * l, l),\n",
    "    pjs.MeshStandardMaterial(color='green'),\n",
    "    name=\"Body_r\"\n",
    ")"
   ]
  },
  {
   "cell_type": "code",
   "execution_count": 125,
   "metadata": {},
   "outputs": [],
   "source": [
    "body_m_matrices = v1.evaluate_transformation_matrix(s, list(sys.constants.values()))\n",
    "body_l_matrices = v2.evaluate_transformation_matrix(s, list(sys.constants.values()))\n",
    "body_r_matrices = v3.evaluate_transformation_matrix(s, list(sys.constants.values()))\n",
    "\n",
    "body_m_track = pjs.VectorKeyframeTrack(\n",
    "    name='scene/Body_m.matrix',\n",
    "    times=list(sys.times),\n",
    "    values=body_m_matrices)\n",
    "\n",
    "body_l_track = pjs.VectorKeyframeTrack(\n",
    "    name='scene/Body_l.matrix',\n",
    "    times=list(sys.times),\n",
    "    values=body_l_matrices)\n",
    "\n",
    "body_r_track = pjs.VectorKeyframeTrack(\n",
    "    name='scene/Body_r.matrix',\n",
    "    times=list(sys.times),\n",
    "    values=body_r_matrices)"
   ]
  },
  {
   "cell_type": "code",
   "execution_count": 126,
   "metadata": {},
   "outputs": [],
   "source": [
    "body_m_mesh.matrixAutoUpdate = False\n",
    "body_l_mesh.matrixAutoUpdate = False\n",
    "body_r_mesh.matrixAutoUpdate = False"
   ]
  },
  {
   "cell_type": "code",
   "execution_count": 127,
   "metadata": {},
   "outputs": [],
   "source": [
    "body_m_mesh.matrix = body_m_matrices[0]\n",
    "body_l_mesh.matrix = body_l_matrices[0]\n",
    "body_r_mesh.matrix = body_r_matrices[0]"
   ]
  },
  {
   "cell_type": "code",
   "execution_count": 134,
   "metadata": {},
   "outputs": [],
   "source": [
    "x_arrow = pjs.ArrowHelper(dir=[1, 0, 0], length=0.75, color='blue')\n",
    "y_arrow = pjs.ArrowHelper(dir=[0, 1, 0], length=0.75, color='red')\n",
    "z_arrow = pjs.ArrowHelper(dir=[0, 0, 1], length=0.75,color='green')"
   ]
  },
  {
   "cell_type": "code",
   "execution_count": 143,
   "metadata": {},
   "outputs": [],
   "source": [
    "view_width = 960\n",
    "view_height = 720\n",
    "\n",
    "camera = pjs.PerspectiveCamera(position=[1, 1, 1],\n",
    "                               aspect=view_width/view_height)\n",
    "key_light = pjs.DirectionalLight(position=[1, 1, 0])\n",
    "ambient_light = pjs.AmbientLight()\n",
    "\n",
    "scene_pjs = pjs.Scene(children=[body_m_mesh, body_l_mesh, body_r_mesh,\n",
    "                                x_arrow, y_arrow, z_arrow, \n",
    "                                camera, key_light, ambient_light])\n",
    "\n",
    "controller = pjs.OrbitControls(controlling=camera)\n",
    "renderer = pjs.Renderer(camera=camera, scene=scene_pjs, controls=[controller], width=view_width, height=view_height)"
   ]
  },
  {
   "cell_type": "code",
   "execution_count": 144,
   "metadata": {},
   "outputs": [
    {
     "data": {
      "application/vnd.jupyter.widget-view+json": {
       "model_id": "24b87ccfedab45f8a3255e3047b14905",
       "version_major": 2,
       "version_minor": 0
      },
      "text/plain": [
       "Renderer(camera=PerspectiveCamera(aspect=1.3333333333333333, position=(1.0, 1.0, 1.0), projectionMatrix=(1.608…"
      ]
     },
     "metadata": {},
     "output_type": "display_data"
    }
   ],
   "source": [
    "renderer"
   ]
  },
  {
   "cell_type": "code",
   "execution_count": 82,
   "metadata": {},
   "outputs": [
    {
     "data": {
      "application/vnd.jupyter.widget-view+json": {
       "model_id": "8868c37a448d4438ab012024f623d6a3",
       "version_major": 2,
       "version_minor": 0
      },
      "text/plain": [
       "AnimationAction(clip=AnimationClip(duration=50.0, tracks=(VectorKeyframeTrack(name='scene/Body_m.matrix', time…"
      ]
     },
     "metadata": {},
     "output_type": "display_data"
    }
   ],
   "source": [
    "clip = pjs.AnimationClip(tracks=[body_m_track, body_l_track, body_r_track], duration=sys.times[-1])\n",
    "action = pjs.AnimationAction(pjs.AnimationMixer(scene_pjs), clip, scene_pjs)\n",
    "action"
   ]
  },
  {
   "cell_type": "code",
   "execution_count": null,
   "metadata": {},
   "outputs": [],
   "source": []
  }
 ],
 "metadata": {
  "kernelspec": {
   "display_name": "Python 3",
   "language": "python",
   "name": "python3"
  },
  "language_info": {
   "codemirror_mode": {
    "name": "ipython",
    "version": 3
   },
   "file_extension": ".py",
   "mimetype": "text/x-python",
   "name": "python",
   "nbconvert_exporter": "python",
   "pygments_lexer": "ipython3",
   "version": "3.6.8"
  }
 },
 "nbformat": 4,
 "nbformat_minor": 4
}
