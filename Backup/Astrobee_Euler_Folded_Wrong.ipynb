{
 "cells": [
  {
   "cell_type": "markdown",
   "metadata": {},
   "source": [
    "# <center>Modeling and Simulation of Astrobee<center>"
   ]
  },
  {
   "cell_type": "markdown",
   "metadata": {},
   "source": [
    "<p align=\"center\">\n",
    "  <center><img src=\"Astrobee.png\" width=\"500\" height=\"276\"><center>\n",
    "  <center>Source: <a href=\"https://ntrs.nasa.gov/search.jsp?R=20180003515\">Fl&uumlckiger et al. (2018)</a><center>\n",
    "</p>"
   ]
  },
  {
   "cell_type": "markdown",
   "metadata": {},
   "source": [
    "## Dependencies"
   ]
  },
  {
   "cell_type": "code",
   "execution_count": 1,
   "metadata": {},
   "outputs": [],
   "source": [
    "import sympy as sm\n",
    "import sympy.physics.mechanics as me\n",
    "from pydy.system import System\n",
    "import numpy as np\n",
    "import matplotlib.pyplot as plt\n",
    "from pydy.codegen.ode_function_generators import generate_ode_function\n",
    "from scipy.integrate import odeint\n",
    "me.init_vprinting()"
   ]
  },
  {
   "cell_type": "markdown",
   "metadata": {},
   "source": [
    "## Reference Frames"
   ]
  },
  {
   "cell_type": "code",
   "execution_count": 2,
   "metadata": {},
   "outputs": [],
   "source": [
    "ISS = me.ReferenceFrame('N') # ISS RF\n",
    "B = me.ReferenceFrame('B') # body RF\n",
    "\n",
    "q1, q2, q3 = me.dynamicsymbols('q1:4') # attitude coordinates (quaternion angles)\n",
    "\n",
    "B.orient(ISS, 'Body', (q1, q2, q3), 'xyz') # body RF"
   ]
  },
  {
   "cell_type": "code",
   "execution_count": 3,
   "metadata": {},
   "outputs": [],
   "source": [
    "t = me.dynamicsymbols._t"
   ]
  },
  {
   "cell_type": "markdown",
   "metadata": {},
   "source": [
    "## Significant Points"
   ]
  },
  {
   "cell_type": "code",
   "execution_count": 4,
   "metadata": {},
   "outputs": [],
   "source": [
    "O = me.Point('O') # fixed point in the ISS\n",
    "O.set_vel(ISS, 0)"
   ]
  },
  {
   "cell_type": "code",
   "execution_count": 5,
   "metadata": {},
   "outputs": [],
   "source": [
    "x, y, z = me.dynamicsymbols('x, y, z') # translation coordinates (position of the mass-center of Astrobee relative to 'O')\n",
    "l = sm.symbols('l') # length of Astrobee (side of cube)"
   ]
  },
  {
   "cell_type": "code",
   "execution_count": 6,
   "metadata": {},
   "outputs": [],
   "source": [
    "C = O.locatenew('C', x * ISS.x + y * ISS.y + z * ISS.z) # Astrobee CM"
   ]
  },
  {
   "cell_type": "markdown",
   "metadata": {},
   "source": [
    "## Kinematical Differential Equations"
   ]
  },
  {
   "cell_type": "code",
   "execution_count": 7,
   "metadata": {},
   "outputs": [],
   "source": [
    "ux = me.dynamicsymbols('u_x')\n",
    "uy = me.dynamicsymbols('u_y')\n",
    "uz = me.dynamicsymbols('u_z')\n",
    "u1 = me.dynamicsymbols('u_1')\n",
    "u2 = me.dynamicsymbols('u_2')\n",
    "u3 = me.dynamicsymbols('u_3')"
   ]
  },
  {
   "cell_type": "code",
   "execution_count": 8,
   "metadata": {},
   "outputs": [
    {
     "data": {
      "image/png": "[encoded data removed]",
      "text/latex": [
       "$\\displaystyle \\left\\{ \\dot{q}_{1} : u_{1}, \\  \\dot{q}_{2} : u_{2}, \\  \\dot{q}_{3} : u_{3}, \\  \\dot{x} : u_{x}, \\  \\dot{y} : u_{y}, \\  \\dot{z} : u_{z}\\right\\}$"
      ],
      "text/plain": [
       "{q₁̇: u₁, q₂̇: u₂, q₃̇: u₃, ẋ: uₓ, ẏ: u_y, ż: u_z}"
      ]
     },
     "execution_count": 8,
     "metadata": {},
     "output_type": "execute_result"
    }
   ],
   "source": [
    "z1 = sm.Eq(ux, x.diff())\n",
    "z2 = sm.Eq(uy, y.diff())\n",
    "z3 = sm.Eq(uz, z.diff())\n",
    "z4 = sm.Eq(u1, q1.diff())\n",
    "z5 = sm.Eq(u2, q2.diff())\n",
    "z6 = sm.Eq(u3, q3.diff())\n",
    "u = sm.solve([z1, z2, z3, z4, z5, z6], x.diff(), y.diff(), z.diff(), q1.diff(), q2.diff(), q3.diff())\n",
    "u"
   ]
  },
  {
   "cell_type": "code",
   "execution_count": 9,
   "metadata": {},
   "outputs": [],
   "source": [
    "ux_dot = me.dynamicsymbols('u_x_d')\n",
    "uy_dot = me.dynamicsymbols('u_y_d')\n",
    "uz_dot = me.dynamicsymbols('u_z_d')\n",
    "u1_dot = me.dynamicsymbols('u_1_d')\n",
    "u2_dot = me.dynamicsymbols('u_2_d')\n",
    "u3_dot = me.dynamicsymbols('u_3_d')"
   ]
  },
  {
   "cell_type": "code",
   "execution_count": 10,
   "metadata": {},
   "outputs": [
    {
     "data": {
      "image/png": "[encoded data removed]",
      "text/latex": [
       "$\\displaystyle \\left\\{ \\dot{u}_{1} : u_{1d}, \\  \\dot{u}_{2} : u_{2d}, \\  \\dot{u}_{3} : u_{3d}, \\  \\dot{u}_{x} : u_{xd}, \\  \\dot{u}_{y} : u_{yd}, \\  \\dot{u}_{z} : u_{zd}\\right\\}$"
      ],
      "text/plain": [
       "{u₁̇: u_1_d, u₂̇: u_2_d, u₃̇: u_3_d, uₓ̇: u_x_d, u_̇y: u_y_d, u_̇z: u_z_d}"
      ]
     },
     "execution_count": 10,
     "metadata": {},
     "output_type": "execute_result"
    }
   ],
   "source": [
    "z1d = sm.Eq(ux_dot, ux.diff())\n",
    "z2d = sm.Eq(uy_dot, uy.diff())\n",
    "z3d = sm.Eq(uz_dot, uz.diff())\n",
    "z4d = sm.Eq(u1_dot, u1.diff())\n",
    "z5d = sm.Eq(u2_dot, u2.diff())\n",
    "z6d = sm.Eq(u3_dot, u3.diff())\n",
    "ud = sm.solve([z1d, z2d, z3d, z4d, z5d, z6d], ux.diff(), uy.diff(), uz.diff(), u1.diff(), u2.diff(), u3.diff())\n",
    "ud"
   ]
  },
  {
   "cell_type": "markdown",
   "metadata": {},
   "source": [
    "## Translational Motion"
   ]
  },
  {
   "cell_type": "markdown",
   "metadata": {},
   "source": [
    "### Velocity"
   ]
  },
  {
   "cell_type": "code",
   "execution_count": 11,
   "metadata": {},
   "outputs": [
    {
     "data": {
      "image/png": "[encoded data removed]",
      "text/latex": [
       "$\\displaystyle u_{x}\\mathbf{\\hat{n}_x} + u_{y}\\mathbf{\\hat{n}_y} + u_{z}\\mathbf{\\hat{n}_z}$"
      ],
      "text/plain": [
       "uₓ n_x + u_y n_y + u_z n_z"
      ]
     },
     "execution_count": 11,
     "metadata": {},
     "output_type": "execute_result"
    }
   ],
   "source": [
    "C.set_vel(ISS, C.pos_from(O).dt(ISS).subs(u))\n",
    "V_B_ISS_ISS = C.vel(ISS)\n",
    "V_B_ISS_ISS # \"velocity of Astrobee CM w.r.t ISS RF expressed in ISS RF\" "
   ]
  },
  {
   "cell_type": "markdown",
   "metadata": {},
   "source": [
    "### Acceleration"
   ]
  },
  {
   "cell_type": "code",
   "execution_count": 12,
   "metadata": {},
   "outputs": [
    {
     "data": {
      "image/png": "[encoded data removed]",
      "text/latex": [
       "$\\displaystyle u_{xd}\\mathbf{\\hat{n}_x} + u_{yd}\\mathbf{\\hat{n}_y} + u_{zd}\\mathbf{\\hat{n}_z}$"
      ],
      "text/plain": [
       "u_x_d n_x + u_y_d n_y + u_z_d n_z"
      ]
     },
     "execution_count": 12,
     "metadata": {},
     "output_type": "execute_result"
    }
   ],
   "source": [
    "A_B_ISS_ISS = C.acc(ISS).subs(u).subs(ud)\n",
    "A_B_ISS_ISS # \"acceleration of Astrobee CM w.r.t ISS RF expressed in ISS RF\" "
   ]
  },
  {
   "cell_type": "markdown",
   "metadata": {},
   "source": [
    "## Angular Motion"
   ]
  },
  {
   "cell_type": "markdown",
   "metadata": {},
   "source": [
    "### Angular Velocity"
   ]
  },
  {
   "cell_type": "code",
   "execution_count": 13,
   "metadata": {},
   "outputs": [
    {
     "data": {
      "image/png": "[encoded data removed]",
      "text/latex": [
       "$\\displaystyle (u_{1} \\operatorname{cos}\\left(q_{2}\\right) \\operatorname{cos}\\left(q_{3}\\right) + u_{2} \\operatorname{sin}\\left(q_{3}\\right))\\mathbf{\\hat{b}_x} + (- u_{1} \\operatorname{sin}\\left(q_{3}\\right) \\operatorname{cos}\\left(q_{2}\\right) + u_{2} \\operatorname{cos}\\left(q_{3}\\right))\\mathbf{\\hat{b}_y} + (u_{1} \\operatorname{sin}\\left(q_{2}\\right) + u_{3})\\mathbf{\\hat{b}_z}$"
      ],
      "text/plain": [
       "(u₁⋅cos(q₂)⋅cos(q₃) + u₂⋅sin(q₃)) b_x + (-u₁⋅sin(q₃)⋅cos(q₂) + u₂⋅cos(q₃)) b_y\n",
       " + (u₁⋅sin(q₂) + u₃) b_z"
      ]
     },
     "execution_count": 13,
     "metadata": {},
     "output_type": "execute_result"
    }
   ],
   "source": [
    "B.set_ang_vel(ISS, B.ang_vel_in(ISS).subs(u))\n",
    "Omega_B_ISS_B = B.ang_vel_in(ISS)\n",
    "Omega_B_ISS_B # \"angular velocity of body RF w.r.t ISS RF expressed in body RF\" "
   ]
  },
  {
   "cell_type": "markdown",
   "metadata": {},
   "source": [
    "### Angular Acceleration"
   ]
  },
  {
   "cell_type": "code",
   "execution_count": 14,
   "metadata": {},
   "outputs": [
    {
     "data": {
      "image/png": "[encoded data removed]",
      "text/latex": [
       "$\\displaystyle (- u_{1} u_{2} \\operatorname{sin}\\left(q_{2}\\right) \\operatorname{cos}\\left(q_{3}\\right) - u_{1} u_{3} \\operatorname{sin}\\left(q_{3}\\right) \\operatorname{cos}\\left(q_{2}\\right) + u_{1d} \\operatorname{cos}\\left(q_{2}\\right) \\operatorname{cos}\\left(q_{3}\\right) + u_{2} u_{3} \\operatorname{cos}\\left(q_{3}\\right) + u_{2d} \\operatorname{sin}\\left(q_{3}\\right))\\mathbf{\\hat{b}_x} + (u_{1} u_{2} \\operatorname{sin}\\left(q_{2}\\right) \\operatorname{sin}\\left(q_{3}\\right) - u_{1} u_{3} \\operatorname{cos}\\left(q_{2}\\right) \\operatorname{cos}\\left(q_{3}\\right) - u_{1d} \\operatorname{sin}\\left(q_{3}\\right) \\operatorname{cos}\\left(q_{2}\\right) - u_{2} u_{3} \\operatorname{sin}\\left(q_{3}\\right) + u_{2d} \\operatorname{cos}\\left(q_{3}\\right))\\mathbf{\\hat{b}_y} + (u_{1} u_{2} \\operatorname{cos}\\left(q_{2}\\right) + u_{1d} \\operatorname{sin}\\left(q_{2}\\right) + u_{3d})\\mathbf{\\hat{b}_z}$"
      ],
      "text/plain": [
       "(-u₁⋅u₂⋅sin(q₂)⋅cos(q₃) - u₁⋅u₃⋅sin(q₃)⋅cos(q₂) + u_1_d⋅cos(q₂)⋅cos(q₃) + u₂⋅u\n",
       "₃⋅cos(q₃) + u_2_d⋅sin(q₃)) b_x + (u₁⋅u₂⋅sin(q₂)⋅sin(q₃) - u₁⋅u₃⋅cos(q₂)⋅cos(q₃\n",
       ") - u_1_d⋅sin(q₃)⋅cos(q₂) - u₂⋅u₃⋅sin(q₃) + u_2_d⋅cos(q₃)) b_y + (u₁⋅u₂⋅cos(q₂\n",
       ") + u_1_d⋅sin(q₂) + u_3_d) b_z"
      ]
     },
     "execution_count": 14,
     "metadata": {},
     "output_type": "execute_result"
    }
   ],
   "source": [
    "Alpha_B_ISS_B = B.ang_acc_in(ISS).subs(u).subs(ud)\n",
    "Alpha_B_ISS_B # \"angular acceleration of body RF w.r.t ISS RF expressed in body RF\" "
   ]
  },
  {
   "cell_type": "markdown",
   "metadata": {},
   "source": [
    "## Mass and Inertia"
   ]
  },
  {
   "cell_type": "code",
   "execution_count": 15,
   "metadata": {},
   "outputs": [
    {
     "data": {
      "image/png": "[encoded data removed]",
      "text/latex": [
       "$\\displaystyle I_{x}\\mathbf{\\hat{b}_x}\\otimes \\mathbf{\\hat{b}_x} + I_{y}\\mathbf{\\hat{b}_y}\\otimes \\mathbf{\\hat{b}_y} + I_{z}\\mathbf{\\hat{b}_z}\\otimes \\mathbf{\\hat{b}_z}$"
      ],
      "text/plain": [
       "Iₓ b_x⊗b_x + I_y b_y⊗b_y + I_z b_z⊗b_z"
      ]
     },
     "execution_count": 15,
     "metadata": {},
     "output_type": "execute_result"
    }
   ],
   "source": [
    "m = sm.symbols('m') # Astrobee mass\n",
    "\n",
    "Ix, Iy, Iz = sm.symbols('I_x, I_y, I_z') # principal moments of inertia\n",
    "\n",
    "I = me.inertia(B, Ix, Iy, Iz) # inertia dyadic\n",
    "I"
   ]
  },
  {
   "cell_type": "markdown",
   "metadata": {},
   "source": [
    "## Loads"
   ]
  },
  {
   "cell_type": "markdown",
   "metadata": {},
   "source": [
    "### Forces"
   ]
  },
  {
   "cell_type": "code",
   "execution_count": 16,
   "metadata": {},
   "outputs": [
    {
     "data": {
      "image/png": "[encoded data removed]",
      "text/latex": [
       "$\\displaystyle \\left( m u_{xd}\\mathbf{\\hat{n}_x}, \\  m u_{yd}\\mathbf{\\hat{n}_y}, \\  m u_{zd}\\mathbf{\\hat{n}_z}\\right)$"
      ],
      "text/plain": [
       "(m⋅u_x_d n_x, m⋅u_y_d n_y, m⋅u_z_d n_z)"
      ]
     },
     "execution_count": 16,
     "metadata": {},
     "output_type": "execute_result"
    }
   ],
   "source": [
    "Fx_mag, Fy_mag, Fz_mag = me.dynamicsymbols('Fmag_x, Fmag_y, Fmag_z')\n",
    "\n",
    "Fx = m * A_B_ISS_ISS.dot(ISS.x) * ISS.x\n",
    "Fy = m * A_B_ISS_ISS.dot(ISS.y) * ISS.y\n",
    "Fz = m * A_B_ISS_ISS.dot(ISS.z) * ISS.z\n",
    "\n",
    "Fx, Fy, Fz"
   ]
  },
  {
   "cell_type": "markdown",
   "metadata": {},
   "source": [
    "### "
   ]
  },
  {
   "cell_type": "code",
   "execution_count": 17,
   "metadata": {},
   "outputs": [
    {
     "data": {
      "image/png": "[encoded data removed]",
      "text/latex": [
       "$\\displaystyle \\left( I_{x} \\left(- u_{1} u_{2} \\operatorname{sin}\\left(q_{2}\\right) \\operatorname{cos}\\left(q_{3}\\right) - u_{1} u_{3} \\operatorname{sin}\\left(q_{3}\\right) \\operatorname{cos}\\left(q_{2}\\right) + u_{1d} \\operatorname{cos}\\left(q_{2}\\right) \\operatorname{cos}\\left(q_{3}\\right) + u_{2} u_{3} \\operatorname{cos}\\left(q_{3}\\right) + u_{2d} \\operatorname{sin}\\left(q_{3}\\right)\\right)\\mathbf{\\hat{b}_x}, \\  I_{y} \\left(u_{1} u_{2} \\operatorname{sin}\\left(q_{2}\\right) \\operatorname{sin}\\left(q_{3}\\right) - u_{1} u_{3} \\operatorname{cos}\\left(q_{2}\\right) \\operatorname{cos}\\left(q_{3}\\right) - u_{1d} \\operatorname{sin}\\left(q_{3}\\right) \\operatorname{cos}\\left(q_{2}\\right) - u_{2} u_{3} \\operatorname{sin}\\left(q_{3}\\right) + u_{2d} \\operatorname{cos}\\left(q_{3}\\right)\\right)\\mathbf{\\hat{b}_y}, \\  I_{z} \\left(u_{1} u_{2} \\operatorname{cos}\\left(q_{2}\\right) + u_{1d} \\operatorname{sin}\\left(q_{2}\\right) + u_{3d}\\right)\\mathbf{\\hat{b}_z}\\right)$"
      ],
      "text/plain": [
       "⎛Iₓ⋅(-u₁⋅u₂⋅sin(q₂)⋅cos(q₃) - u₁⋅u₃⋅sin(q₃)⋅cos(q₂) + u_1_d⋅cos(q₂)⋅cos(q₃) + \n",
       "⎝                      ₂⋅u₃⋅cos(q₃) + u_2_d⋅sin(q₃)) b_x                      \n",
       "\n",
       "u, I_y⋅(u₁⋅u₂⋅sin(q₂)⋅sin(q₃) - u₁⋅u₃⋅cos(q₂)⋅cos(q₃) - u_1_d⋅sin(q₃)⋅cos(q₂) \n",
       "                         ₂⋅u₃⋅sin(q₃) + u_2_d⋅cos(q₃)) b_y                    \n",
       "\n",
       "- u, I_z⋅(u₁⋅u₂⋅cos(q₂) + u_1_d⋅sin(q₂) + u_3_d) b_z⎞\n",
       "                                                    ⎠"
      ]
     },
     "execution_count": 17,
     "metadata": {},
     "output_type": "execute_result"
    }
   ],
   "source": [
    "Tx_mag, Ty_mag, Tz_mag = me.dynamicsymbols('Tmag_x, Tmag_y, Tmag_z')\n",
    "\n",
    "Tx = Ix * Alpha_B_ISS_B.dot(B.x) * B.x\n",
    "Ty = Iy * Alpha_B_ISS_B.dot(B.y) * B.y\n",
    "Tz = Iz * Alpha_B_ISS_B.dot(B.z) * B.z\n",
    "\n",
    "Tx, Ty, Tz"
   ]
  },
  {
   "cell_type": "markdown",
   "metadata": {},
   "source": [
    "## Kane's Method"
   ]
  },
  {
   "cell_type": "code",
   "execution_count": 18,
   "metadata": {},
   "outputs": [],
   "source": [
    "kdes = [z1.rhs - z1.lhs, z2.rhs - z2.lhs, z3.rhs - z3.lhs, z4.rhs - z4.lhs, z5.rhs - z5.lhs, z6.rhs - z6.lhs]"
   ]
  },
  {
   "cell_type": "code",
   "execution_count": 19,
   "metadata": {},
   "outputs": [],
   "source": [
    "body = me.RigidBody('body', C, B, m, (I, C))\n",
    "bodies = [body]"
   ]
  },
  {
   "cell_type": "code",
   "execution_count": 20,
   "metadata": {},
   "outputs": [],
   "source": [
    "loads = [(C, Fx),\n",
    "         (C, Fy),\n",
    "         (C, Fz),\n",
    "         (B, Tx),\n",
    "         (B, Ty),\n",
    "         (B, Tz)\n",
    "        ]"
   ]
  },
  {
   "cell_type": "code",
   "execution_count": 21,
   "metadata": {},
   "outputs": [],
   "source": [
    "kane = me.KanesMethod(ISS, (x, y, z, q1, q2, q3), (ux, uy, uz, u1, u2, u3), kd_eqs=kdes)"
   ]
  },
  {
   "cell_type": "code",
   "execution_count": 22,
   "metadata": {},
   "outputs": [],
   "source": [
    "fr, frstar = kane.kanes_equations(bodies, loads=loads)"
   ]
  },
  {
   "cell_type": "code",
   "execution_count": 23,
   "metadata": {},
   "outputs": [],
   "source": [
    "# fr"
   ]
  },
  {
   "cell_type": "code",
   "execution_count": 24,
   "metadata": {},
   "outputs": [],
   "source": [
    "# frstar"
   ]
  },
  {
   "cell_type": "markdown",
   "metadata": {},
   "source": [
    "## Simulation"
   ]
  },
  {
   "cell_type": "code",
   "execution_count": 25,
   "metadata": {},
   "outputs": [],
   "source": [
    "sys = System(kane)"
   ]
  },
  {
   "cell_type": "code",
   "execution_count": 26,
   "metadata": {},
   "outputs": [
    {
     "data": {
      "image/png": "[encoded data removed]",
      "text/latex": [
       "$\\displaystyle \\left\\{I_{x}, I_{y}, I_{z}, m\\right\\}$"
      ],
      "text/plain": [
       "{Iₓ, I_y, I_z, m}"
      ]
     },
     "execution_count": 26,
     "metadata": {},
     "output_type": "execute_result"
    }
   ],
   "source": [
    "sys.constants_symbols"
   ]
  },
  {
   "cell_type": "code",
   "execution_count": 27,
   "metadata": {},
   "outputs": [],
   "source": [
    "sys.constants = {Ix: 0.185,\n",
    "                 Iy: 0.202,\n",
    "                 Iz: 0.188,\n",
    "                 m: 15.878\n",
    "                 }"
   ]
  },
  {
   "cell_type": "code",
   "execution_count": 28,
   "metadata": {},
   "outputs": [],
   "source": [
    "sys.times = np.linspace(0.0, 50.0, num=1000)"
   ]
  },
  {
   "cell_type": "code",
   "execution_count": 29,
   "metadata": {},
   "outputs": [
    {
     "data": {
      "image/png": "[encoded data removed]",
      "text/latex": [
       "$\\displaystyle \\left[ x, \\  y, \\  z, \\  q_{1}, \\  q_{2}, \\  q_{3}\\right]$"
      ],
      "text/plain": [
       "[x, y, z, q₁, q₂, q₃]"
      ]
     },
     "execution_count": 29,
     "metadata": {},
     "output_type": "execute_result"
    }
   ],
   "source": [
    "sys.coordinates"
   ]
  },
  {
   "cell_type": "code",
   "execution_count": 30,
   "metadata": {},
   "outputs": [
    {
     "data": {
      "image/png": "[encoded data removed]",
      "text/latex": [
       "$\\displaystyle \\left[ u_{x}, \\  u_{y}, \\  u_{z}, \\  u_{1}, \\  u_{2}, \\  u_{3}\\right]$"
      ],
      "text/plain": [
       "[uₓ, u_y, u_z, u₁, u₂, u₃]"
      ]
     },
     "execution_count": 30,
     "metadata": {},
     "output_type": "execute_result"
    }
   ],
   "source": [
    "sys.speeds"
   ]
  },
  {
   "cell_type": "code",
   "execution_count": 31,
   "metadata": {},
   "outputs": [
    {
     "data": {
      "image/png": "[encoded data removed]",
      "text/latex": [
       "$\\displaystyle \\left[ x, \\  y, \\  z, \\  q_{1}, \\  q_{2}, \\  q_{3}, \\  u_{x}, \\  u_{y}, \\  u_{z}, \\  u_{1}, \\  u_{2}, \\  u_{3}\\right]$"
      ],
      "text/plain": [
       "[x, y, z, q₁, q₂, q₃, uₓ, u_y, u_z, u₁, u₂, u₃]"
      ]
     },
     "execution_count": 31,
     "metadata": {},
     "output_type": "execute_result"
    }
   ],
   "source": [
    "sys.states"
   ]
  },
  {
   "cell_type": "code",
   "execution_count": 32,
   "metadata": {},
   "outputs": [],
   "source": [
    "sys.initial_conditions = {x: 0.0,\n",
    "                          y: 0.0,\n",
    "                          z: 0.0,\n",
    "                          q1: 0.0,\n",
    "                          q2: 0.0,\n",
    "                          q3: 0.0,\n",
    "                          ux: 0.0,\n",
    "                          uy: 0.0,\n",
    "                          uz: 0.0,\n",
    "                          u1: 0.0,\n",
    "                          u2: 0.0,\n",
    "                          u3: 0.0\n",
    "                         }"
   ]
  },
  {
   "cell_type": "code",
   "execution_count": 33,
   "metadata": {},
   "outputs": [
    {
     "data": {
      "image/png": "[encoded data removed]",
      "text/latex": [
       "$\\displaystyle \\left\\{u_{1d}, u_{2d}, u_{3d}, u_{xd}, u_{yd}, u_{zd}\\right\\}$"
      ],
      "text/plain": [
       "{u_1_d, u_2_d, u_3_d, u_x_d, u_y_d, u_z_d}"
      ]
     },
     "execution_count": 33,
     "metadata": {},
     "output_type": "execute_result"
    }
   ],
   "source": [
    "sys.specifieds_symbols"
   ]
  },
  {
   "cell_type": "code",
   "execution_count": 34,
   "metadata": {},
   "outputs": [],
   "source": [
    "sys.specifieds = {ux_dot: 0.0,\n",
    "                  uy_dot: 0.0,\n",
    "                  uz_dot: 0.0,\n",
    "                  u1_dot: 0.0,\n",
    "                  u2_dot: 0.0,\n",
    "                  u3_dot: 0.0\n",
    "                 }"
   ]
  },
  {
   "cell_type": "code",
   "execution_count": 35,
   "metadata": {},
   "outputs": [],
   "source": [
    "states = sys.integrate()"
   ]
  },
  {
   "cell_type": "code",
   "execution_count": 36,
   "metadata": {},
   "outputs": [
    {
     "data": {
      "image/png": "[encoded data removed]",
      "text/plain": [
       "<Figure size 432x288 with 1 Axes>"
      ]
     },
     "metadata": {
      "needs_background": "light"
     },
     "output_type": "display_data"
    }
   ],
   "source": [
    "fig, ax = plt.subplots()\n",
    "ax.plot(sys.times, states)\n",
    "ax.set_xlabel('{} [s]'.format(sm.latex(t, mode='inline')));\n",
    "plt.show()"
   ]
  },
  {
   "cell_type": "code",
   "execution_count": 37,
   "metadata": {},
   "outputs": [
    {
     "data": {
      "image/png": "[encoded data removed]",
      "text/plain": [
       "<Figure size 432x288 with 1 Axes>"
      ]
     },
     "metadata": {
      "needs_background": "light"
     },
     "output_type": "display_data"
    }
   ],
   "source": [
    "fig, ax = plt.subplots()\n",
    "ax.plot(sys.times, states[:, 0])\n",
    "ax.set_xlabel('{} [s]'.format(sm.latex(t, mode='inline'))); ax.set_ylabel('{} [m]'.format(sm.latex(x, mode='inline')));\n",
    "plt.show()"
   ]
  },
  {
   "cell_type": "code",
   "execution_count": 38,
   "metadata": {},
   "outputs": [
    {
     "data": {
      "image/png": "[encoded data removed]",
      "text/plain": [
       "<Figure size 432x288 with 1 Axes>"
      ]
     },
     "metadata": {
      "needs_background": "light"
     },
     "output_type": "display_data"
    }
   ],
   "source": [
    "fig, ax = plt.subplots()\n",
    "ax.plot(sys.times, states[:, 1])\n",
    "ax.set_xlabel('{} [s]'.format(sm.latex(t, mode='inline'))); ax.set_ylabel('{} [m]'.format(sm.latex(y, mode='inline')));\n",
    "plt.show()"
   ]
  },
  {
   "cell_type": "code",
   "execution_count": 39,
   "metadata": {},
   "outputs": [
    {
     "data": {
      "image/png": "[encoded data removed]",
      "text/plain": [
       "<Figure size 432x288 with 1 Axes>"
      ]
     },
     "metadata": {
      "needs_background": "light"
     },
     "output_type": "display_data"
    }
   ],
   "source": [
    "fig, ax = plt.subplots()\n",
    "ax.plot(sys.times, states[:, 2])\n",
    "ax.set_xlabel('{} [s]'.format(sm.latex(t, mode='inline'))); ax.set_ylabel('{} [m]'.format(sm.latex(z, mode='inline')));\n",
    "plt.show()"
   ]
  },
  {
   "cell_type": "code",
   "execution_count": 40,
   "metadata": {},
   "outputs": [
    {
     "data": {
      "image/png": "[encoded data removed]",
      "text/plain": [
       "<Figure size 432x288 with 1 Axes>"
      ]
     },
     "metadata": {
      "needs_background": "light"
     },
     "output_type": "display_data"
    }
   ],
   "source": [
    "fig, ax = plt.subplots()\n",
    "ax.plot(sys.times, states[:, 3])\n",
    "ax.set_xlabel('{} [s]'.format(sm.latex(t, mode='inline'))); ax.set_ylabel('{} [rad]'.format(sm.latex(q1, mode='inline')));\n",
    "plt.show()"
   ]
  },
  {
   "cell_type": "code",
   "execution_count": 41,
   "metadata": {},
   "outputs": [
    {
     "data": {
      "image/png": "[encoded data removed]",
      "text/plain": [
       "<Figure size 432x288 with 1 Axes>"
      ]
     },
     "metadata": {
      "needs_background": "light"
     },
     "output_type": "display_data"
    }
   ],
   "source": [
    "fig, ax = plt.subplots()\n",
    "ax.plot(sys.times, states[:, 4])\n",
    "ax.set_xlabel('{} [s]'.format(sm.latex(t, mode='inline'))); ax.set_ylabel('{} [rad]'.format(sm.latex(q2, mode='inline')));\n",
    "plt.show()"
   ]
  },
  {
   "cell_type": "code",
   "execution_count": 42,
   "metadata": {},
   "outputs": [
    {
     "data": {
      "image/png": "[encoded data removed]",
      "text/plain": [
       "<Figure size 432x288 with 1 Axes>"
      ]
     },
     "metadata": {
      "needs_background": "light"
     },
     "output_type": "display_data"
    }
   ],
   "source": [
    "fig, ax = plt.subplots()\n",
    "ax.plot(sys.times, states[:, 5])\n",
    "ax.set_xlabel('{} [s]'.format(sm.latex(t, mode='inline'))); ax.set_ylabel('{} [rad]'.format(sm.latex(q3, mode='inline')));\n",
    "plt.show()"
   ]
  },
  {
   "cell_type": "code",
   "execution_count": 43,
   "metadata": {},
   "outputs": [
    {
     "data": {
      "image/png": "[encoded data removed]",
      "text/plain": [
       "<Figure size 432x288 with 1 Axes>"
      ]
     },
     "metadata": {
      "needs_background": "light"
     },
     "output_type": "display_data"
    }
   ],
   "source": [
    "fig, ax = plt.subplots()\n",
    "ax.plot(sys.times, states[:, 6])\n",
    "ax.set_xlabel('{} [s]'.format(sm.latex(t, mode='inline'))); ax.set_ylabel('{} [m/s]'.format(sm.latex(ux, mode='inline')));\n",
    "plt.show()"
   ]
  },
  {
   "cell_type": "code",
   "execution_count": 44,
   "metadata": {},
   "outputs": [
    {
     "data": {
      "image/png": "[encoded data removed]",
      "text/plain": [
       "<Figure size 432x288 with 1 Axes>"
      ]
     },
     "metadata": {
      "needs_background": "light"
     },
     "output_type": "display_data"
    }
   ],
   "source": [
    "fig, ax = plt.subplots()\n",
    "ax.plot(sys.times, states[:, 7])\n",
    "ax.set_xlabel('{} [s]'.format(sm.latex(t, mode='inline'))); ax.set_ylabel('{} [m/s]'.format(sm.latex(uy, mode='inline')));\n",
    "plt.show()"
   ]
  },
  {
   "cell_type": "code",
   "execution_count": 45,
   "metadata": {},
   "outputs": [
    {
     "data": {
      "image/png": "[encoded data removed]",
      "text/plain": [
       "<Figure size 432x288 with 1 Axes>"
      ]
     },
     "metadata": {
      "needs_background": "light"
     },
     "output_type": "display_data"
    }
   ],
   "source": [
    "fig, ax = plt.subplots()\n",
    "ax.plot(sys.times, states[:, 8])\n",
    "ax.set_xlabel('{} [s]'.format(sm.latex(t, mode='inline'))); ax.set_ylabel('{} [m/s]'.format(sm.latex(uz, mode='inline')));\n",
    "plt.show()"
   ]
  },
  {
   "cell_type": "code",
   "execution_count": 46,
   "metadata": {},
   "outputs": [
    {
     "data": {
      "image/png": "[encoded data removed]",
      "text/plain": [
       "<Figure size 432x288 with 1 Axes>"
      ]
     },
     "metadata": {
      "needs_background": "light"
     },
     "output_type": "display_data"
    }
   ],
   "source": [
    "fig, ax = plt.subplots()\n",
    "ax.plot(sys.times, states[:, 9])\n",
    "ax.set_xlabel('{} [s]'.format(sm.latex(t, mode='inline'))); ax.set_ylabel('{} [rad/s]'.format(sm.latex(u1, mode='inline')));\n",
    "plt.show()"
   ]
  },
  {
   "cell_type": "code",
   "execution_count": 47,
   "metadata": {},
   "outputs": [
    {
     "data": {
      "image/png": "[encoded data removed]",
      "text/plain": [
       "<Figure size 432x288 with 1 Axes>"
      ]
     },
     "metadata": {
      "needs_background": "light"
     },
     "output_type": "display_data"
    }
   ],
   "source": [
    "fig, ax = plt.subplots()\n",
    "ax.plot(sys.times, states[:, 10])\n",
    "ax.set_xlabel('{} [s]'.format(sm.latex(t, mode='inline'))); ax.set_ylabel('{} [rad/s]'.format(sm.latex(u2, mode='inline')));\n",
    "plt.show()"
   ]
  },
  {
   "cell_type": "code",
   "execution_count": 48,
   "metadata": {},
   "outputs": [
    {
     "data": {
      "image/png": "[encoded data removed]",
      "text/plain": [
       "<Figure size 432x288 with 1 Axes>"
      ]
     },
     "metadata": {
      "needs_background": "light"
     },
     "output_type": "display_data"
    }
   ],
   "source": [
    "fig, ax = plt.subplots()\n",
    "ax.plot(sys.times, states[:, 11])\n",
    "ax.set_xlabel('{} [s]'.format(sm.latex(t, mode='inline'))); ax.set_ylabel('{} [rad/s]'.format(sm.latex(u3, mode='inline')));\n",
    "plt.show()"
   ]
  },
  {
   "cell_type": "markdown",
   "metadata": {},
   "source": [
    "## 3D Visualization"
   ]
  },
  {
   "cell_type": "code",
   "execution_count": 49,
   "metadata": {},
   "outputs": [],
   "source": [
    "from pydy.viz.shapes import Cube, Cylinder, Sphere, Plane\n",
    "from pydy.viz.visualization_frame import VisualizationFrame\n",
    "from pydy.viz import Scene\n",
    "from ipywidgets import Image, Video\n",
    "import pythreejs as pjs"
   ]
  },
  {
   "cell_type": "code",
   "execution_count": 50,
   "metadata": {},
   "outputs": [],
   "source": [
    "l = 0.32"
   ]
  },
  {
   "cell_type": "code",
   "execution_count": 51,
   "metadata": {},
   "outputs": [],
   "source": [
    "body_m_shape = Cube(0.32, color='black')\n",
    "body_l_shape = Cube(0.32, color='green')\n",
    "body_r_shape = Cube(0.32, color='green')"
   ]
  },
  {
   "cell_type": "code",
   "execution_count": 52,
   "metadata": {},
   "outputs": [],
   "source": [
    "v1 = VisualizationFrame('Body_m',\n",
    "                        B,\n",
    "                        C.locatenew('C_m', (1/6) * l * B.z),\n",
    "                        body_m_shape)\n",
    "\n",
    "v2 = VisualizationFrame('Body_l',\n",
    "                        B,\n",
    "                        C.locatenew('C_l', (3/8) * l * -B.y),\n",
    "                        body_l_shape)\n",
    "\n",
    "v3 = VisualizationFrame('Body_r',\n",
    "                        B,\n",
    "                        C.locatenew('C_l', (3/8) * l * B.y),\n",
    "                        body_l_shape)"
   ]
  },
  {
   "cell_type": "code",
   "execution_count": 53,
   "metadata": {},
   "outputs": [],
   "source": [
    "scene = Scene(ISS, O, v1, v2, v3, system=sys)\n",
    "scene.create_static_html(overwrite=True, silent=True)"
   ]
  },
  {
   "cell_type": "code",
   "execution_count": 54,
   "metadata": {},
   "outputs": [],
   "source": [
    "body_m_mesh = pjs.Mesh(\n",
    "    pjs.BoxBufferGeometry(l, (1/2) * l, (2/3) * l),\n",
    "    pjs.MeshStandardMaterial(color='black'),\n",
    "    name=\"Body_m\"\n",
    ")\n",
    "\n",
    "body_l_mesh = pjs.Mesh(\n",
    "    pjs.BoxBufferGeometry(l, (1/4) * l, l),\n",
    "    pjs.MeshStandardMaterial(color='green'),\n",
    "    name=\"Body_l\"\n",
    ")\n",
    "\n",
    "body_r_mesh = pjs.Mesh(\n",
    "    pjs.BoxBufferGeometry(l, (1/4) * l, l),\n",
    "    pjs.MeshStandardMaterial(color='green'),\n",
    "    name=\"Body_r\"\n",
    ")"
   ]
  },
  {
   "cell_type": "code",
   "execution_count": 55,
   "metadata": {},
   "outputs": [],
   "source": [
    "body_m_matrices = v1.evaluate_transformation_matrix(states, list(sys.constants.values()))\n",
    "body_l_matrices = v2.evaluate_transformation_matrix(states, list(sys.constants.values()))\n",
    "body_r_matrices = v3.evaluate_transformation_matrix(states, list(sys.constants.values()))\n",
    "\n",
    "body_m_track = pjs.VectorKeyframeTrack(\n",
    "    name='scene/Body_m.matrix',\n",
    "    times=list(sys.times),\n",
    "    values=body_m_matrices)\n",
    "\n",
    "body_l_track = pjs.VectorKeyframeTrack(\n",
    "    name='scene/Body_l.matrix',\n",
    "    times=list(sys.times),\n",
    "    values=body_l_matrices)\n",
    "\n",
    "body_r_track = pjs.VectorKeyframeTrack(\n",
    "    name='scene/Body_r.matrix',\n",
    "    times=list(sys.times),\n",
    "    values=body_r_matrices)"
   ]
  },
  {
   "cell_type": "code",
   "execution_count": 56,
   "metadata": {},
   "outputs": [],
   "source": [
    "body_m_mesh.matrixAutoUpdate = False\n",
    "body_l_mesh.matrixAutoUpdate = False\n",
    "body_r_mesh.matrixAutoUpdate = False"
   ]
  },
  {
   "cell_type": "code",
   "execution_count": 57,
   "metadata": {},
   "outputs": [],
   "source": [
    "body_m_mesh.matrix = body_m_matrices[0]\n",
    "body_l_mesh.matrix = body_l_matrices[0]\n",
    "body_r_mesh.matrix = body_r_matrices[0]"
   ]
  },
  {
   "cell_type": "code",
   "execution_count": 58,
   "metadata": {},
   "outputs": [],
   "source": [
    "x_arrow = pjs.ArrowHelper(dir=[1, 0, 0], length=0.75, color='blue')\n",
    "y_arrow = pjs.ArrowHelper(dir=[0, 1, 0], length=0.75, color='red')\n",
    "z_arrow = pjs.ArrowHelper(dir=[0, 0, 1], length=0.75,color='green')"
   ]
  },
  {
   "cell_type": "code",
   "execution_count": 59,
   "metadata": {},
   "outputs": [],
   "source": [
    "view_width = 960\n",
    "view_height = 720\n",
    "\n",
    "camera = pjs.PerspectiveCamera(position=[1, 1, 1],\n",
    "                               aspect=view_width/view_height)\n",
    "key_light = pjs.DirectionalLight(position=[1, 1, 0])\n",
    "ambient_light = pjs.AmbientLight()\n",
    "\n",
    "scene_pjs = pjs.Scene(children=[body_m_mesh, body_l_mesh, body_r_mesh,\n",
    "                                x_arrow, y_arrow, z_arrow, \n",
    "                                camera, key_light, ambient_light])\n",
    "\n",
    "controller = pjs.OrbitControls(controlling=camera)\n",
    "renderer = pjs.Renderer(camera=camera, scene=scene_pjs, controls=[controller], width=view_width, height=view_height)"
   ]
  },
  {
   "cell_type": "code",
   "execution_count": 60,
   "metadata": {},
   "outputs": [
    {
     "data": {
      "application/vnd.jupyter.widget-view+json": {
       "model_id": "840747d74e15400ca08f101faf2a29ff",
       "version_major": 2,
       "version_minor": 0
      },
      "text/plain": [
       "Renderer(camera=PerspectiveCamera(aspect=1.3333333333333333, position=(1.0, 1.0, 1.0), quaternion=(0.0, 0.0, 0…"
      ]
     },
     "metadata": {},
     "output_type": "display_data"
    }
   ],
   "source": [
    "renderer"
   ]
  },
  {
   "cell_type": "code",
   "execution_count": 61,
   "metadata": {},
   "outputs": [
    {
     "data": {
      "application/vnd.jupyter.widget-view+json": {
       "model_id": "888685472cc6456885a69db147d93673",
       "version_major": 2,
       "version_minor": 0
      },
      "text/plain": [
       "AnimationAction(clip=AnimationClip(duration=50.0, tracks=(VectorKeyframeTrack(name='scene/Body_m.matrix', time…"
      ]
     },
     "metadata": {},
     "output_type": "display_data"
    }
   ],
   "source": [
    "clip = pjs.AnimationClip(tracks=[body_m_track, body_l_track, body_r_track], duration=sys.times[-1])\n",
    "action = pjs.AnimationAction(pjs.AnimationMixer(scene_pjs), clip, scene_pjs)\n",
    "action"
   ]
  },
  {
   "cell_type": "markdown",
   "metadata": {},
   "source": [
    "## Linearization"
   ]
  },
  {
   "cell_type": "code",
   "execution_count": 62,
   "metadata": {},
   "outputs": [],
   "source": [
    "f = fr + frstar"
   ]
  },
  {
   "cell_type": "code",
   "execution_count": 63,
   "metadata": {},
   "outputs": [],
   "source": [
    "V = { \n",
    "      x: 0.0,\n",
    "      y: 0.0,\n",
    "      z: 0.0,\n",
    "      q1: 0.0,\n",
    "      q2: 0.0,\n",
    "      q3: 0.0,\n",
    "      ux: 0.0,\n",
    "      uy: 0.0,\n",
    "      uz: 0.0,\n",
    "      u1: 0.0,\n",
    "      u2: 0.0,\n",
    "      u3: 0.0,\n",
    "      ux_dot: 0.0,\n",
    "      uy_dot: 0.0,\n",
    "      uz_dot: 0.0,\n",
    "      u1_dot: 0.0,\n",
    "      u2_dot: 0.0,\n",
    "      u3_dot: 0.0\n",
    "}\n",
    "\n",
    "V_keys = sm.Matrix([ v for v in V.keys() ])\n",
    "V_values = sm.Matrix([ v for v in V.values() ])"
   ]
  },
  {
   "cell_type": "code",
   "execution_count": 64,
   "metadata": {},
   "outputs": [],
   "source": [
    "f_lin = f.subs(V) + f.jacobian(V_keys).subs(V)*(V_keys - V_values)"
   ]
  },
  {
   "cell_type": "code",
   "execution_count": 65,
   "metadata": {},
   "outputs": [
    {
     "data": {
      "image/png": "[encoded data removed]",
      "text/latex": [
       "$\\displaystyle \\left[\\begin{matrix}m u_{xd}\\\\m u_{yd}\\\\m u_{zd}\\\\I_{x} u_{1d}\\\\I_{y} u_{2d}\\\\I_{z} u_{3d}\\end{matrix}\\right]$"
      ],
      "text/plain": [
       "⎡ m⋅u_x_d ⎤\n",
       "⎢         ⎥\n",
       "⎢ m⋅u_y_d ⎥\n",
       "⎢         ⎥\n",
       "⎢ m⋅u_z_d ⎥\n",
       "⎢         ⎥\n",
       "⎢Iₓ⋅u_1_d ⎥\n",
       "⎢         ⎥\n",
       "⎢I_y⋅u_2_d⎥\n",
       "⎢         ⎥\n",
       "⎣I_z⋅u_3_d⎦"
      ]
     },
     "execution_count": 65,
     "metadata": {},
     "output_type": "execute_result"
    }
   ],
   "source": [
    "sm.simplify(f_lin)"
   ]
  },
  {
   "cell_type": "code",
   "execution_count": 66,
   "metadata": {},
   "outputs": [
    {
     "data": {
      "image/png": "[encoded data removed]",
      "text/latex": [
       "$\\displaystyle \\left[\\begin{matrix}15.878 u_{xd}\\\\15.878 u_{yd}\\\\15.878 u_{zd}\\\\0.185 u_{1d}\\\\0.202 u_{2d}\\\\0.188 u_{3d}\\end{matrix}\\right]$"
      ],
      "text/plain": [
       "⎡15.878⋅u_x_d⎤\n",
       "⎢            ⎥\n",
       "⎢15.878⋅u_y_d⎥\n",
       "⎢            ⎥\n",
       "⎢15.878⋅u_z_d⎥\n",
       "⎢            ⎥\n",
       "⎢0.185⋅u_1_d ⎥\n",
       "⎢            ⎥\n",
       "⎢0.202⋅u_2_d ⎥\n",
       "⎢            ⎥\n",
       "⎣0.188⋅u_3_d ⎦"
      ]
     },
     "execution_count": 66,
     "metadata": {},
     "output_type": "execute_result"
    }
   ],
   "source": [
    "sm.simplify(f_lin.subs(sys.constants))"
   ]
  },
  {
   "cell_type": "code",
   "execution_count": 67,
   "metadata": {},
   "outputs": [],
   "source": [
    "us = sm.Matrix([ux, uy, uz, u1, u2, u3])\n",
    "us_diff = sm.Matrix([ux_dot, uy_dot, uz_dot, u1_dot, u2_dot, u3_dot])\n",
    "qs = sm.Matrix([x, y, z, q1, q2, q3])\n",
    "rs = sm.Matrix([ux_dot, uy_dot, uz_dot, u1_dot, u2_dot, u3_dot])"
   ]
  },
  {
   "cell_type": "code",
   "execution_count": 68,
   "metadata": {},
   "outputs": [
    {
     "data": {
      "image/png": "[encoded data removed]",
      "text/latex": [
       "$\\displaystyle \\left[\\begin{matrix}m & 0 & 0 & 0 & 0 & 0\\\\0 & m & 0 & 0 & 0 & 0\\\\0 & 0 & m & 0 & 0 & 0\\\\0 & 0 & 0 & I_{x} & 0 & 0\\\\0 & 0 & 0 & 0 & I_{y} & 0\\\\0 & 0 & 0 & 0 & 0 & I_{z}\\end{matrix}\\right]$"
      ],
      "text/plain": [
       "⎡m  0  0  0    0    0 ⎤\n",
       "⎢                     ⎥\n",
       "⎢0  m  0  0    0    0 ⎥\n",
       "⎢                     ⎥\n",
       "⎢0  0  m  0    0    0 ⎥\n",
       "⎢                     ⎥\n",
       "⎢0  0  0  Iₓ   0    0 ⎥\n",
       "⎢                     ⎥\n",
       "⎢0  0  0  0   I_y   0 ⎥\n",
       "⎢                     ⎥\n",
       "⎣0  0  0  0    0   I_z⎦"
      ]
     },
     "execution_count": 68,
     "metadata": {},
     "output_type": "execute_result"
    }
   ],
   "source": [
    "Ml = f_lin.jacobian(us_diff)\n",
    "Ml"
   ]
  },
  {
   "cell_type": "code",
   "execution_count": 69,
   "metadata": {},
   "outputs": [
    {
     "data": {
      "image/png": "[encoded data removed]",
      "text/latex": [
       "$\\displaystyle \\left[\\begin{matrix}0 & 0 & 0 & 0 & 0 & 0\\\\0 & 0 & 0 & 0 & 0 & 0\\\\0 & 0 & 0 & 0 & 0 & 0\\\\0 & 0 & 0 & 0 & 0 & 0\\\\0 & 0 & 0 & 0 & 0 & 0\\\\0 & 0 & 0 & 0 & 0 & 0\\end{matrix}\\right]$"
      ],
      "text/plain": [
       "⎡0  0  0  0  0  0⎤\n",
       "⎢                ⎥\n",
       "⎢0  0  0  0  0  0⎥\n",
       "⎢                ⎥\n",
       "⎢0  0  0  0  0  0⎥\n",
       "⎢                ⎥\n",
       "⎢0  0  0  0  0  0⎥\n",
       "⎢                ⎥\n",
       "⎢0  0  0  0  0  0⎥\n",
       "⎢                ⎥\n",
       "⎣0  0  0  0  0  0⎦"
      ]
     },
     "execution_count": 69,
     "metadata": {},
     "output_type": "execute_result"
    }
   ],
   "source": [
    "Cl = f_lin.jacobian(us)\n",
    "Cl.subs(sys.constants)"
   ]
  },
  {
   "cell_type": "code",
   "execution_count": 70,
   "metadata": {},
   "outputs": [
    {
     "data": {
      "image/png": "[encoded data removed]",
      "text/latex": [
       "$\\displaystyle \\left[\\begin{matrix}0 & 0 & 0 & 0 & 0 & 0\\\\0 & 0 & 0 & 0 & 0 & 0\\\\0 & 0 & 0 & 0 & 0 & 0\\\\0 & 0 & 0 & 0 & 0 & 0\\\\0 & 0 & 0 & 0 & 0 & 0\\\\0 & 0 & 0 & 0 & 0 & 0\\end{matrix}\\right]$"
      ],
      "text/plain": [
       "⎡0  0  0  0  0  0⎤\n",
       "⎢                ⎥\n",
       "⎢0  0  0  0  0  0⎥\n",
       "⎢                ⎥\n",
       "⎢0  0  0  0  0  0⎥\n",
       "⎢                ⎥\n",
       "⎢0  0  0  0  0  0⎥\n",
       "⎢                ⎥\n",
       "⎢0  0  0  0  0  0⎥\n",
       "⎢                ⎥\n",
       "⎣0  0  0  0  0  0⎦"
      ]
     },
     "execution_count": 70,
     "metadata": {},
     "output_type": "execute_result"
    }
   ],
   "source": [
    "Kl = f_lin.jacobian(qs)\n",
    "sm.simplify(Kl.subs(sys.constants))"
   ]
  },
  {
   "cell_type": "code",
   "execution_count": 71,
   "metadata": {},
   "outputs": [
    {
     "data": {
      "image/png": "[encoded data removed]",
      "text/latex": [
       "$\\displaystyle \\left[\\begin{matrix}15.878 & 0 & 0 & 0 & 0 & 0\\\\0 & 15.878 & 0 & 0 & 0 & 0\\\\0 & 0 & 15.878 & 0 & 0 & 0\\\\0 & 0 & 0 & 0.185 & 0 & 0\\\\0 & 0 & 0 & 0 & 0.202 & 0\\\\0 & 0 & 0 & 0 & 0 & 0.188\\end{matrix}\\right]$"
      ],
      "text/plain": [
       "⎡15.878    0       0       0      0      0  ⎤\n",
       "⎢                                           ⎥\n",
       "⎢  0     15.878    0       0      0      0  ⎥\n",
       "⎢                                           ⎥\n",
       "⎢  0       0     15.878    0      0      0  ⎥\n",
       "⎢                                           ⎥\n",
       "⎢  0       0       0     0.185    0      0  ⎥\n",
       "⎢                                           ⎥\n",
       "⎢  0       0       0       0    0.202    0  ⎥\n",
       "⎢                                           ⎥\n",
       "⎣  0       0       0       0      0    0.188⎦"
      ]
     },
     "execution_count": 71,
     "metadata": {},
     "output_type": "execute_result"
    }
   ],
   "source": [
    "Hl = f_lin.jacobian(rs)\n",
    "sm.simplify(Hl.subs(sys.constants))"
   ]
  },
  {
   "cell_type": "code",
   "execution_count": 72,
   "metadata": {},
   "outputs": [
    {
     "data": {
      "image/png": "[encoded data removed]",
      "text/latex": [
       "$\\displaystyle \\left[\\begin{array}{cccccccccccc}0 & 0 & 0 & 0 & 0 & 0 & 0 & 0 & 0 & 0 & 0 & 0\\\\0 & 0 & 0 & 0 & 0 & 0 & 0 & 0 & 0 & 0 & 0 & 0\\\\0 & 0 & 0 & 0 & 0 & 0 & 0 & 0 & 0 & 0 & 0 & 0\\\\0 & 0 & 0 & 0 & 0 & 0 & 0 & 0 & 0 & 0 & 0 & 0\\\\0 & 0 & 0 & 0 & 0 & 0 & 0 & 0 & 0 & 0 & 0 & 0\\\\0 & 0 & 0 & 0 & 0 & 0 & 0 & 0 & 0 & 0 & 0 & 0\\\\1 & 0 & 0 & 0 & 0 & 0 & 0 & 0 & 0 & 0 & 0 & 0\\\\0 & 1 & 0 & 0 & 0 & 0 & 0 & 0 & 0 & 0 & 0 & 0\\\\0 & 0 & 1 & 0 & 0 & 0 & 0 & 0 & 0 & 0 & 0 & 0\\\\0 & 0 & 0 & 1 & 0 & 0 & 0 & 0 & 0 & 0 & 0 & 0\\\\0 & 0 & 0 & 0 & 1 & 0 & 0 & 0 & 0 & 0 & 0 & 0\\\\0 & 0 & 0 & 0 & 0 & 1 & 0 & 0 & 0 & 0 & 0 & 0\\end{array}\\right]$"
      ],
      "text/plain": [
       "⎡0  0  0  0  0  0  0  0  0  0  0  0⎤\n",
       "⎢                                  ⎥\n",
       "⎢0  0  0  0  0  0  0  0  0  0  0  0⎥\n",
       "⎢                                  ⎥\n",
       "⎢0  0  0  0  0  0  0  0  0  0  0  0⎥\n",
       "⎢                                  ⎥\n",
       "⎢0  0  0  0  0  0  0  0  0  0  0  0⎥\n",
       "⎢                                  ⎥\n",
       "⎢0  0  0  0  0  0  0  0  0  0  0  0⎥\n",
       "⎢                                  ⎥\n",
       "⎢0  0  0  0  0  0  0  0  0  0  0  0⎥\n",
       "⎢                                  ⎥\n",
       "⎢1  0  0  0  0  0  0  0  0  0  0  0⎥\n",
       "⎢                                  ⎥\n",
       "⎢0  1  0  0  0  0  0  0  0  0  0  0⎥\n",
       "⎢                                  ⎥\n",
       "⎢0  0  1  0  0  0  0  0  0  0  0  0⎥\n",
       "⎢                                  ⎥\n",
       "⎢0  0  0  1  0  0  0  0  0  0  0  0⎥\n",
       "⎢                                  ⎥\n",
       "⎢0  0  0  0  1  0  0  0  0  0  0  0⎥\n",
       "⎢                                  ⎥\n",
       "⎣0  0  0  0  0  1  0  0  0  0  0  0⎦"
      ]
     },
     "execution_count": 72,
     "metadata": {},
     "output_type": "execute_result"
    }
   ],
   "source": [
    "A = sm.Matrix([[(-Ml.inv()*Cl), (-Ml.inv()*Kl)], [(sm.eye(6)), sm.zeros(6, 6)]])\n",
    "sm.simplify(A.subs(sys.constants))"
   ]
  },
  {
   "cell_type": "code",
   "execution_count": 73,
   "metadata": {},
   "outputs": [
    {
     "data": {
      "image/png": "[encoded data removed]",
      "text/latex": [
       "$\\displaystyle \\left[\\begin{matrix}0\\\\0\\\\0\\\\0\\\\0\\\\0\\\\u_{x}\\\\u_{y}\\\\u_{z}\\\\u_{1}\\\\u_{2}\\\\u_{3}\\end{matrix}\\right]$"
      ],
      "text/plain": [
       "⎡ 0 ⎤\n",
       "⎢   ⎥\n",
       "⎢ 0 ⎥\n",
       "⎢   ⎥\n",
       "⎢ 0 ⎥\n",
       "⎢   ⎥\n",
       "⎢ 0 ⎥\n",
       "⎢   ⎥\n",
       "⎢ 0 ⎥\n",
       "⎢   ⎥\n",
       "⎢ 0 ⎥\n",
       "⎢   ⎥\n",
       "⎢uₓ ⎥\n",
       "⎢   ⎥\n",
       "⎢u_y⎥\n",
       "⎢   ⎥\n",
       "⎢u_z⎥\n",
       "⎢   ⎥\n",
       "⎢u₁ ⎥\n",
       "⎢   ⎥\n",
       "⎢u₂ ⎥\n",
       "⎢   ⎥\n",
       "⎣u₃ ⎦"
      ]
     },
     "execution_count": 73,
     "metadata": {},
     "output_type": "execute_result"
    }
   ],
   "source": [
    "sm.simplify(A).subs(sys.constants)*(us.col_join(qs))"
   ]
  },
  {
   "cell_type": "code",
   "execution_count": 74,
   "metadata": {},
   "outputs": [
    {
     "data": {
      "image/png": "[encoded data removed]",
      "text/latex": [
       "$\\displaystyle \\left[\\begin{matrix}1 & 0 & 0 & 0 & 0 & 0\\\\0 & 1 & 0 & 0 & 0 & 0\\\\0 & 0 & 1 & 0 & 0 & 0\\\\0 & 0 & 0 & 1 & 0 & 0\\\\0 & 0 & 0 & 0 & 1 & 0\\\\0 & 0 & 0 & 0 & 0 & 1\\\\0 & 0 & 0 & 0 & 0 & 0\\\\0 & 0 & 0 & 0 & 0 & 0\\\\0 & 0 & 0 & 0 & 0 & 0\\\\0 & 0 & 0 & 0 & 0 & 0\\\\0 & 0 & 0 & 0 & 0 & 0\\\\0 & 0 & 0 & 0 & 0 & 0\\end{matrix}\\right]$"
      ],
      "text/plain": [
       "⎡1  0  0  0  0  0⎤\n",
       "⎢                ⎥\n",
       "⎢0  1  0  0  0  0⎥\n",
       "⎢                ⎥\n",
       "⎢0  0  1  0  0  0⎥\n",
       "⎢                ⎥\n",
       "⎢0  0  0  1  0  0⎥\n",
       "⎢                ⎥\n",
       "⎢0  0  0  0  1  0⎥\n",
       "⎢                ⎥\n",
       "⎢0  0  0  0  0  1⎥\n",
       "⎢                ⎥\n",
       "⎢0  0  0  0  0  0⎥\n",
       "⎢                ⎥\n",
       "⎢0  0  0  0  0  0⎥\n",
       "⎢                ⎥\n",
       "⎢0  0  0  0  0  0⎥\n",
       "⎢                ⎥\n",
       "⎢0  0  0  0  0  0⎥\n",
       "⎢                ⎥\n",
       "⎢0  0  0  0  0  0⎥\n",
       "⎢                ⎥\n",
       "⎣0  0  0  0  0  0⎦"
      ]
     },
     "execution_count": 74,
     "metadata": {},
     "output_type": "execute_result"
    }
   ],
   "source": [
    "B = sm.Matrix([[Ml.inv() * Hl], [sm.zeros(6, 6)]])\n",
    "sm.simplify(B).subs(sys.constants)"
   ]
  },
  {
   "cell_type": "code",
   "execution_count": 75,
   "metadata": {},
   "outputs": [
    {
     "data": {
      "image/png": "[encoded data removed]",
      "text/latex": [
       "$\\displaystyle \\left[\\begin{matrix}u_{xd}\\\\u_{yd}\\\\u_{zd}\\\\u_{1d}\\\\u_{2d}\\\\u_{3d}\\\\0\\\\0\\\\0\\\\0\\\\0\\\\0\\end{matrix}\\right]$"
      ],
      "text/plain": [
       "⎡u_x_d⎤\n",
       "⎢     ⎥\n",
       "⎢u_y_d⎥\n",
       "⎢     ⎥\n",
       "⎢u_z_d⎥\n",
       "⎢     ⎥\n",
       "⎢u_1_d⎥\n",
       "⎢     ⎥\n",
       "⎢u_2_d⎥\n",
       "⎢     ⎥\n",
       "⎢u_3_d⎥\n",
       "⎢     ⎥\n",
       "⎢  0  ⎥\n",
       "⎢     ⎥\n",
       "⎢  0  ⎥\n",
       "⎢     ⎥\n",
       "⎢  0  ⎥\n",
       "⎢     ⎥\n",
       "⎢  0  ⎥\n",
       "⎢     ⎥\n",
       "⎢  0  ⎥\n",
       "⎢     ⎥\n",
       "⎣  0  ⎦"
      ]
     },
     "execution_count": 75,
     "metadata": {},
     "output_type": "execute_result"
    }
   ],
   "source": [
    "sm.simplify(B).subs(sys.constants)*(rs)"
   ]
  },
  {
   "cell_type": "code",
   "execution_count": 76,
   "metadata": {},
   "outputs": [
    {
     "data": {
      "image/png": "[encoded data removed]",
      "text/latex": [
       "$\\displaystyle \\left( \\left[\\begin{matrix}u_{x}\\\\u_{y}\\\\u_{z}\\\\u_{1}\\\\u_{2}\\\\u_{3}\\\\x\\\\y\\\\z\\\\q_{1}\\\\q_{2}\\\\q_{3}\\end{matrix}\\right], \\  \\left[\\begin{matrix}u_{xd}\\\\u_{yd}\\\\u_{zd}\\\\u_{1d}\\\\u_{2d}\\\\u_{3d}\\\\u_{x}\\\\u_{y}\\\\u_{z}\\\\u_{1}\\\\u_{2}\\\\u_{3}\\end{matrix}\\right]\\right)$"
      ],
      "text/plain": [
       "⎛⎡uₓ ⎤  ⎡u_x_d⎤⎞\n",
       "⎜⎢   ⎥  ⎢     ⎥⎟\n",
       "⎜⎢u_y⎥  ⎢u_y_d⎥⎟\n",
       "⎜⎢   ⎥  ⎢     ⎥⎟\n",
       "⎜⎢u_z⎥  ⎢u_z_d⎥⎟\n",
       "⎜⎢   ⎥  ⎢     ⎥⎟\n",
       "⎜⎢u₁ ⎥  ⎢u_1_d⎥⎟\n",
       "⎜⎢   ⎥  ⎢     ⎥⎟\n",
       "⎜⎢u₂ ⎥  ⎢u_2_d⎥⎟\n",
       "⎜⎢   ⎥  ⎢     ⎥⎟\n",
       "⎜⎢u₃ ⎥  ⎢u_3_d⎥⎟\n",
       "⎜⎢   ⎥, ⎢     ⎥⎟\n",
       "⎜⎢ x ⎥  ⎢ uₓ  ⎥⎟\n",
       "⎜⎢   ⎥  ⎢     ⎥⎟\n",
       "⎜⎢ y ⎥  ⎢ u_y ⎥⎟\n",
       "⎜⎢   ⎥  ⎢     ⎥⎟\n",
       "⎜⎢ z ⎥  ⎢ u_z ⎥⎟\n",
       "⎜⎢   ⎥  ⎢     ⎥⎟\n",
       "⎜⎢q₁ ⎥  ⎢ u₁  ⎥⎟\n",
       "⎜⎢   ⎥  ⎢     ⎥⎟\n",
       "⎜⎢q₂ ⎥  ⎢ u₂  ⎥⎟\n",
       "⎜⎢   ⎥  ⎢     ⎥⎟\n",
       "⎝⎣q₃ ⎦  ⎣ u₃  ⎦⎠"
      ]
     },
     "execution_count": 76,
     "metadata": {},
     "output_type": "execute_result"
    }
   ],
   "source": [
    "us.col_join(qs), (sm.simplify(A).subs(sys.constants)*(us.col_join(qs)) + sm.simplify(B).subs(sys.constants)*(rs))"
   ]
  },
  {
   "cell_type": "code",
   "execution_count": 77,
   "metadata": {},
   "outputs": [
    {
     "data": {
      "image/png": "[encoded data removed]",
      "text/latex": [
       "$\\displaystyle \\left[\\begin{matrix}\\frac{1}{s} & 0 & 0 & 0 & 0 & 0\\\\0 & \\frac{1}{s} & 0 & 0 & 0 & 0\\\\0 & 0 & \\frac{1}{s} & 0 & 0 & 0\\\\0 & 0 & 0 & \\frac{1}{s} & 0 & 0\\\\0 & 0 & 0 & 0 & \\frac{1}{s} & 0\\\\0 & 0 & 0 & 0 & 0 & \\frac{1}{s}\\\\\\frac{1}{s^{2}} & 0 & 0 & 0 & 0 & 0\\\\0 & \\frac{1}{s^{2}} & 0 & 0 & 0 & 0\\\\0 & 0 & \\frac{1}{s^{2}} & 0 & 0 & 0\\\\0 & 0 & 0 & \\frac{1}{s^{2}} & 0 & 0\\\\0 & 0 & 0 & 0 & \\frac{1}{s^{2}} & 0\\\\0 & 0 & 0 & 0 & 0 & \\frac{1}{s^{2}}\\end{matrix}\\right]$"
      ],
      "text/plain": [
       "⎡1                     ⎤\n",
       "⎢─   0   0   0   0   0 ⎥\n",
       "⎢s                     ⎥\n",
       "⎢                      ⎥\n",
       "⎢    1                 ⎥\n",
       "⎢0   ─   0   0   0   0 ⎥\n",
       "⎢    s                 ⎥\n",
       "⎢                      ⎥\n",
       "⎢        1             ⎥\n",
       "⎢0   0   ─   0   0   0 ⎥\n",
       "⎢        s             ⎥\n",
       "⎢                      ⎥\n",
       "⎢            1         ⎥\n",
       "⎢0   0   0   ─   0   0 ⎥\n",
       "⎢            s         ⎥\n",
       "⎢                      ⎥\n",
       "⎢                1     ⎥\n",
       "⎢0   0   0   0   ─   0 ⎥\n",
       "⎢                s     ⎥\n",
       "⎢                      ⎥\n",
       "⎢                    1 ⎥\n",
       "⎢0   0   0   0   0   ─ ⎥\n",
       "⎢                    s ⎥\n",
       "⎢                      ⎥\n",
       "⎢1                     ⎥\n",
       "⎢──  0   0   0   0   0 ⎥\n",
       "⎢ 2                    ⎥\n",
       "⎢s                     ⎥\n",
       "⎢                      ⎥\n",
       "⎢    1                 ⎥\n",
       "⎢0   ──  0   0   0   0 ⎥\n",
       "⎢     2                ⎥\n",
       "⎢    s                 ⎥\n",
       "⎢                      ⎥\n",
       "⎢        1             ⎥\n",
       "⎢0   0   ──  0   0   0 ⎥\n",
       "⎢         2            ⎥\n",
       "⎢        s             ⎥\n",
       "⎢                      ⎥\n",
       "⎢            1         ⎥\n",
       "⎢0   0   0   ──  0   0 ⎥\n",
       "⎢             2        ⎥\n",
       "⎢            s         ⎥\n",
       "⎢                      ⎥\n",
       "⎢                1     ⎥\n",
       "⎢0   0   0   0   ──  0 ⎥\n",
       "⎢                 2    ⎥\n",
       "⎢                s     ⎥\n",
       "⎢                      ⎥\n",
       "⎢                    1 ⎥\n",
       "⎢0   0   0   0   0   ──⎥\n",
       "⎢                     2⎥\n",
       "⎣                    s ⎦"
      ]
     },
     "execution_count": 77,
     "metadata": {},
     "output_type": "execute_result"
    }
   ],
   "source": [
    "# Transfer-Function Matrix (from MATLAB)\n",
    "\n",
    "s = sm.symbols('s')\n",
    "\n",
    "Gp = sm.Matrix([[(1/s)*sm.eye(6)], [(1/s**2)*sm.eye(6)]])\n",
    "\n",
    "Gp"
   ]
  }
 ],
 "metadata": {
  "kernelspec": {
   "display_name": "Python 3",
   "language": "python",
   "name": "python3"
  },
  "language_info": {
   "codemirror_mode": {
    "name": "ipython",
    "version": 3
   },
   "file_extension": ".py",
   "mimetype": "text/x-python",
   "name": "python",
   "nbconvert_exporter": "python",
   "pygments_lexer": "ipython3",
   "version": "3.6.8"
  }
 },
 "nbformat": 4,
 "nbformat_minor": 4
}
